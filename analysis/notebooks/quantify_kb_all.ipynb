{
 "cells": [
  {
   "cell_type": "markdown",
   "metadata": {},
   "source": [
    "mouse-SRR8206317_v2"
   ]
  },
  {
   "cell_type": "code",
   "execution_count": 2,
   "metadata": {},
   "outputs": [
    {
     "name": "stdout",
     "output_type": "stream",
     "text": [
      "\n",
      "[kallisto] pseudoaligning reads..\n",
      "\n",
      "[index] k-mer length: 31\n",
      "[index] number of targets: 111,079\n",
      "[index] number of k-mers: 102,195,391\n",
      "[index] number of equivalence classes: 372,074\n",
      "[quant] will process sample 1: ../../data/fastqs/mouse-SRR8206317_v2/bamtofastq_S1_L001_R1_001.fastq.gz\n",
      "                               ../../data/fastqs/mouse-SRR8206317_v2/bamtofastq_S1_L001_R2_001.fastq.gz\n",
      "[quant] will process sample 2: ../../data/fastqs/mouse-SRR8206317_v2/bamtofastq_S1_L002_R1_001.fastq.gz\n",
      "                               ../../data/fastqs/mouse-SRR8206317_v2/bamtofastq_S1_L002_R2_001.fastq.gz\n",
      "[quant] will process sample 3: ../../data/fastqs/mouse-SRR8206317_v2/bamtofastq_S1_L003_R1_001.fastq.gz\n",
      "                               ../../data/fastqs/mouse-SRR8206317_v2/bamtofastq_S1_L003_R2_001.fastq.gz\n",
      "[quant] will process sample 4: ../../data/fastqs/mouse-SRR8206317_v2/bamtofastq_S1_L004_R1_001.fastq.gz\n",
      "                               ../../data/fastqs/mouse-SRR8206317_v2/bamtofastq_S1_L004_R2_001.fastq.gz\n",
      "[quant] finding pseudoalignments for the reads ... done\n",
      "[quant] processed 85,992,089 reads, 68,806,093 reads pseudoaligned\n",
      "\n",
      "[bustools] correcting barcodes..\n",
      "Found 737280 barcodes in the whitelist\n",
      "Processed 68806093 bus records\n",
      "In whitelist = 66294966\n",
      "Corrected = 782287\n",
      "Uncorrected = 1728840\n",
      "\n",
      "[bustools] sorting bus file..\n",
      "Read in 67077253 BUS records\n",
      "\n",
      "[bustools] counting umis..\n"
     ]
    }
   ],
   "source": [
    "!DS=\"mouse-SRR8206317_v2\" && \\\n",
    " REF=\"mouse-mm10\" && \\\n",
    " WHITELIST=\"../../reference/whitelist_10xv2.txt\" && \\\n",
    " ../scripts/kallisto_bus.sh \\\n",
    " -f ../../data/fastqs/$DS/ \\\n",
    " -o ../../data/kallisto_out/$DS \\\n",
    " -i ../../reference/$REF/kallisto.idx \\\n",
    " -g ../../reference/$REF/t2g.txt \\\n",
    " -w $WHITELIST \\\n",
    " -x 10xv2"
   ]
  },
  {
   "cell_type": "markdown",
   "metadata": {},
   "source": [
    "mouse-SRR6998058_v2"
   ]
  },
  {
   "cell_type": "code",
   "execution_count": 3,
   "metadata": {},
   "outputs": [
    {
     "name": "stdout",
     "output_type": "stream",
     "text": [
      "\n",
      "[kallisto] pseudoaligning reads..\n",
      "\n",
      "[index] k-mer length: 31\n",
      "[index] number of targets: 111,079\n",
      "[index] number of k-mers: 102,195,391\n",
      "[index] number of equivalence classes: 372,074\n",
      "[quant] will process sample 1: ../../data/fastqs/mouse-SRR6998058_v2/bamtofastq_S1_L001_R1_001.fastq.gz\n",
      "                               ../../data/fastqs/mouse-SRR6998058_v2/bamtofastq_S1_L001_R2_001.fastq.gz\n",
      "[quant] will process sample 2: ../../data/fastqs/mouse-SRR6998058_v2/bamtofastq_S1_L002_R1_001.fastq.gz\n",
      "                               ../../data/fastqs/mouse-SRR6998058_v2/bamtofastq_S1_L002_R2_001.fastq.gz\n",
      "[quant] will process sample 3: ../../data/fastqs/mouse-SRR6998058_v2/bamtofastq_S1_L003_R1_001.fastq.gz\n",
      "                               ../../data/fastqs/mouse-SRR6998058_v2/bamtofastq_S1_L003_R2_001.fastq.gz\n",
      "[quant] will process sample 4: ../../data/fastqs/mouse-SRR6998058_v2/bamtofastq_S1_L004_R1_001.fastq.gz\n",
      "                               ../../data/fastqs/mouse-SRR6998058_v2/bamtofastq_S1_L004_R2_001.fastq.gz\n",
      "[quant] finding pseudoalignments for the reads ... done\n",
      "[quant] processed 37,227,612 reads, 29,201,463 reads pseudoaligned\n",
      "\n",
      "[bustools] correcting barcodes..\n",
      "Found 737280 barcodes in the whitelist\n",
      "Processed 29201463 bus records\n",
      "In whitelist = 28344188\n",
      "Corrected = 231718\n",
      "Uncorrected = 625557\n",
      "\n",
      "[bustools] sorting bus file..\n",
      "Read in 28575906 BUS records\n",
      "\n",
      "[bustools] counting umis..\n",
      "Done.\n"
     ]
    }
   ],
   "source": [
    "!DS=\"mouse-SRR6998058_v2\" && \\\n",
    " REF=\"mouse-mm10\" && \\\n",
    " WHITELIST=\"../../reference/whitelist_10xv2.txt\" && \\\n",
    " ../scripts/kallisto_bus.sh \\\n",
    " -f ../../data/fastqs/$DS/ \\\n",
    " -o ../../data/kallisto_out/$DS \\\n",
    " -i ../../reference/$REF/kallisto.idx \\\n",
    " -g ../../reference/$REF/t2g.txt \\\n",
    " -w $WHITELIST \\\n",
    " -x 10xv2"
   ]
  },
  {
   "cell_type": "markdown",
   "metadata": {},
   "source": [
    "mouse-SRR8206317_v2"
   ]
  },
  {
   "cell_type": "code",
   "execution_count": 4,
   "metadata": {},
   "outputs": [
    {
     "name": "stdout",
     "output_type": "stream",
     "text": [
      "\n",
      "[kallisto] pseudoaligning reads..\n",
      "\n",
      "[index] k-mer length: 31\n",
      "[index] number of targets: 111,079\n",
      "[index] number of k-mers: 102,195,391\n",
      "[index] number of equivalence classes: 372,074\n",
      "[quant] will process sample 1: ../../data/fastqs/mouse-SRR8206317_v2/bamtofastq_S1_L001_R1_001.fastq.gz\n",
      "                               ../../data/fastqs/mouse-SRR8206317_v2/bamtofastq_S1_L001_R2_001.fastq.gz\n",
      "[quant] will process sample 2: ../../data/fastqs/mouse-SRR8206317_v2/bamtofastq_S1_L002_R1_001.fastq.gz\n",
      "                               ../../data/fastqs/mouse-SRR8206317_v2/bamtofastq_S1_L002_R2_001.fastq.gz\n",
      "[quant] will process sample 3: ../../data/fastqs/mouse-SRR8206317_v2/bamtofastq_S1_L003_R1_001.fastq.gz\n",
      "                               ../../data/fastqs/mouse-SRR8206317_v2/bamtofastq_S1_L003_R2_001.fastq.gz\n",
      "[quant] will process sample 4: ../../data/fastqs/mouse-SRR8206317_v2/bamtofastq_S1_L004_R1_001.fastq.gz\n",
      "                               ../../data/fastqs/mouse-SRR8206317_v2/bamtofastq_S1_L004_R2_001.fastq.gz\n",
      "[quant] finding pseudoalignments for the reads ... done\n",
      "[quant] processed 85,992,089 reads, 68,806,093 reads pseudoaligned\n",
      "\n",
      "[bustools] correcting barcodes..\n",
      "Found 737280 barcodes in the whitelist\n",
      "Processed 68806093 bus records\n",
      "In whitelist = 66294966\n",
      "Corrected = 782287\n",
      "Uncorrected = 1728840\n",
      "\n",
      "[bustools] sorting bus file..\n",
      "Read in 67077253 BUS records\n",
      "\n",
      "[bustools] counting umis..\n",
      "Done.\n"
     ]
    }
   ],
   "source": [
    "!DS=\"mouse-SRR8206317_v2\" && \\\n",
    " REF=\"mouse-mm10\" && \\\n",
    " WHITELIST=\"../../reference/whitelist_10xv2.txt\" && \\\n",
    " ../scripts/kallisto_bus.sh \\\n",
    " -f ../../data/fastqs/$DS/ \\\n",
    " -o ../../data/kallisto_out/$DS \\\n",
    " -i ../../reference/$REF/kallisto.idx \\\n",
    " -g ../../reference/$REF/t2g.txt \\\n",
    " -w $WHITELIST \\\n",
    " -x 10xv2"
   ]
  },
  {
   "cell_type": "markdown",
   "metadata": {},
   "source": [
    "mouse-EMTAB7320_v2"
   ]
  },
  {
   "cell_type": "code",
   "execution_count": 6,
   "metadata": {},
   "outputs": [
    {
     "name": "stdout",
     "output_type": "stream",
     "text": [
      "\n",
      "[kallisto] pseudoaligning reads..\n",
      "\n",
      "[index] k-mer length: 31\n",
      "[index] number of targets: 111,079\n",
      "[index] number of k-mers: 102,195,391\n",
      "[index] number of equivalence classes: 372,074\n",
      "[quant] will process sample 1: ../../data/fastqs/mouse-EMTAB7320_v2/SAG657A3_S2_L002_R1_001.fastq.gz\n",
      "                               ../../data/fastqs/mouse-EMTAB7320_v2/SAG657A3_S2_L002_R2_001.fastq.gz\n",
      "[quant] finding pseudoalignments for the reads ... done\n",
      "[quant] processed 335,147,976 reads, 272,232,224 reads pseudoaligned\n",
      "\n",
      "[bustools] correcting barcodes..\n",
      "Found 737280 barcodes in the whitelist\n",
      "Processed 272232224 bus records\n",
      "In whitelist = 258864227\n",
      "Corrected = 4111830\n",
      "Uncorrected = 9256167\n",
      "\n",
      "[bustools] sorting bus file..\n",
      "Read in 262976057 BUS records\n",
      "\n",
      "[bustools] counting umis..\n",
      "Done.\n"
     ]
    }
   ],
   "source": [
    "!DS=\"mouse-EMTAB7320_v2\" && \\\n",
    " REF=\"mouse-mm10\" && \\\n",
    " WHITELIST=\"../../reference/whitelist_10xv2.txt\" && \\\n",
    " ../scripts/kallisto_bus.sh \\\n",
    " -f ../../data/fastqs/$DS/ \\\n",
    " -o ../../data/kallisto_out/$DS \\\n",
    " -i ../../reference/$REF/kallisto.idx \\\n",
    " -g ../../reference/$REF/t2g.txt \\\n",
    " -w $WHITELIST \\\n",
    " -x 10xv2"
   ]
  },
  {
   "cell_type": "markdown",
   "metadata": {},
   "source": [
    "mouse-SRR8599150_v2"
   ]
  },
  {
   "cell_type": "code",
   "execution_count": 7,
   "metadata": {},
   "outputs": [
    {
     "name": "stdout",
     "output_type": "stream",
     "text": [
      "\n",
      "[kallisto] pseudoaligning reads..\n",
      "\n",
      "[index] k-mer length: 31\n",
      "[index] number of targets: 111,079\n",
      "[index] number of k-mers: 102,195,391\n",
      "[index] number of equivalence classes: 372,074\n",
      "[quant] will process sample 1: ../../data/fastqs/mouse-SRR8599150_v2/SRR8599150_S1_L001_R1_001.fastq.gz\n",
      "                               ../../data/fastqs/mouse-SRR8599150_v2/SRR8599150_S1_L001_R2_001.fastq.gz\n",
      "[quant] finding pseudoalignments for the reads ... done\n",
      "[quant] processed 8,860,361 reads, 3,575,753 reads pseudoaligned\n",
      "\n",
      "[bustools] correcting barcodes..\n",
      "Found 737280 barcodes in the whitelist\n",
      "Processed 3575753 bus records\n",
      "In whitelist = 3420063\n",
      "Corrected = 38493\n",
      "Uncorrected = 117197\n",
      "\n",
      "[bustools] sorting bus file..\n",
      "Read in 3458556 BUS records\n",
      "\n",
      "[bustools] counting umis..\n",
      "Done.\n"
     ]
    }
   ],
   "source": [
    "!DS=\"mouse-SRR8599150_v2\" && \\\n",
    " REF=\"mouse-mm10\" && \\\n",
    " WHITELIST=\"../../reference/whitelist_10xv2.txt\" && \\\n",
    " ../scripts/kallisto_bus.sh \\\n",
    " -f ../../data/fastqs/$DS/ \\\n",
    " -o ../../data/kallisto_out/$DS \\\n",
    " -i ../../reference/$REF/kallisto.idx \\\n",
    " -g ../../reference/$REF/t2g.txt \\\n",
    " -w $WHITELIST \\\n",
    " -x 10xv2"
   ]
  },
  {
   "cell_type": "markdown",
   "metadata": {},
   "source": [
    "mouse-SRR8639063_v2"
   ]
  },
  {
   "cell_type": "code",
   "execution_count": 8,
   "metadata": {},
   "outputs": [
    {
     "name": "stdout",
     "output_type": "stream",
     "text": [
      "\n",
      "[kallisto] pseudoaligning reads..\n",
      "\n",
      "[index] k-mer length: 31\n",
      "[index] number of targets: 111,079\n",
      "[index] number of k-mers: 102,195,391\n",
      "[index] number of equivalence classes: 372,074\n",
      "[quant] will process sample 1: ../../data/fastqs/mouse-SRR8639063_v2/SRR8639063_S1_L001_R1_001.fastq.gz\n",
      "                               ../../data/fastqs/mouse-SRR8639063_v2/SRR8639063_S1_L001_R2_001.fastq.gz\n",
      "[quant] finding pseudoalignments for the reads ... done\n",
      "[quant] processed 416,437,344 reads, 352,250,456 reads pseudoaligned\n",
      "\n",
      "[bustools] correcting barcodes..\n",
      "Found 737280 barcodes in the whitelist\n",
      "Processed 352250456 bus records\n",
      "In whitelist = 348557155\n",
      "Corrected = 1857224\n",
      "Uncorrected = 1836077\n",
      "\n",
      "[bustools] sorting bus file..\n",
      "Read in 350414379 BUS records\n",
      "\n",
      "[bustools] counting umis..\n",
      "Done.\n"
     ]
    }
   ],
   "source": [
    "!DS=\"mouse-SRR8639063_v2\" && \\\n",
    " REF=\"mouse-mm10\" && \\\n",
    " WHITELIST=\"../../reference/whitelist_10xv2.txt\" && \\\n",
    " ../scripts/kallisto_bus.sh \\\n",
    " -f ../../data/fastqs/$DS/ \\\n",
    " -o ../../data/kallisto_out/$DS \\\n",
    " -i ../../reference/$REF/kallisto.idx \\\n",
    " -g ../../reference/$REF/t2g.txt \\\n",
    " -w $WHITELIST \\\n",
    " -x 10xv2"
   ]
  },
  {
   "cell_type": "markdown",
   "metadata": {},
   "source": [
    "mouse-heart1k_v2"
   ]
  },
  {
   "cell_type": "code",
   "execution_count": 9,
   "metadata": {},
   "outputs": [
    {
     "name": "stdout",
     "output_type": "stream",
     "text": [
      "\n",
      "[kallisto] pseudoaligning reads..\n",
      "\n",
      "[index] k-mer length: 31\n",
      "[index] number of targets: 111,079\n",
      "[index] number of k-mers: 102,195,391\n",
      "[index] number of equivalence classes: 372,074\n",
      "[quant] will process sample 1: ../../data/fastqs/mouse-heart1k_v2/heart_1k_v2_S1_L001_R1_001.fastq.gz\n",
      "                               ../../data/fastqs/mouse-heart1k_v2/heart_1k_v2_S1_L001_R2_001.fastq.gz\n",
      "[quant] will process sample 2: ../../data/fastqs/mouse-heart1k_v2/heart_1k_v2_S1_L002_R1_001.fastq.gz\n",
      "                               ../../data/fastqs/mouse-heart1k_v2/heart_1k_v2_S1_L002_R2_001.fastq.gz\n",
      "[quant] finding pseudoalignments for the reads ... done\n",
      "[quant] processed 88,872,840 reads, 69,724,725 reads pseudoaligned\n",
      "\n",
      "\n",
      "[bustools] correcting barcodes..\n",
      "Found 737280 barcodes in the whitelist\n",
      "Processed 69724725 bus records\n",
      "In whitelist = 67365891\n",
      "Corrected = 345420\n",
      "Uncorrected = 2013414\n",
      "\n",
      "[bustools] sorting bus file..\n",
      "Read in 67711311 BUS records\n",
      "\n",
      "[bustools] counting umis..\n",
      "Done.\n"
     ]
    }
   ],
   "source": [
    "!DS=\"mouse-heart1k_v2\" && \\\n",
    " REF=\"mouse-mm10\" && \\\n",
    " WHITELIST=\"../../reference/whitelist_10xv2.txt\" && \\\n",
    " ../scripts/kallisto_bus.sh \\\n",
    " -f ../../data/fastqs/$DS/ \\\n",
    " -o ../../data/kallisto_out/$DS \\\n",
    " -i ../../reference/$REF/kallisto.idx \\\n",
    " -g ../../reference/$REF/t2g.txt \\\n",
    " -w $WHITELIST \\\n",
    " -x 10xv2"
   ]
  },
  {
   "cell_type": "markdown",
   "metadata": {},
   "source": [
    "mouse-heart1k_v3"
   ]
  },
  {
   "cell_type": "code",
   "execution_count": 10,
   "metadata": {},
   "outputs": [
    {
     "name": "stdout",
     "output_type": "stream",
     "text": [
      "\n",
      "[kallisto] pseudoaligning reads..\n",
      "\n",
      "[index] k-mer length: 31\n",
      "[index] number of targets: 111,079\n",
      "[index] number of k-mers: 102,195,391\n",
      "[index] number of equivalence classes: 372,074\n",
      "[quant] will process sample 1: ../../data/fastqs/mouse-heart1k_v3/heart_1k_v3_S1_L001_R1_001.fastq.gz\n",
      "                               ../../data/fastqs/mouse-heart1k_v3/heart_1k_v3_S1_L001_R2_001.fastq.gz\n",
      "[quant] will process sample 2: ../../data/fastqs/mouse-heart1k_v3/heart_1k_v3_S1_L002_R1_001.fastq.gz\n",
      "                               ../../data/fastqs/mouse-heart1k_v3/heart_1k_v3_S1_L002_R2_001.fastq.gz\n",
      "[quant] finding pseudoalignments for the reads ... done\n",
      "[quant] processed 84,512,390 reads, 59,371,726 reads pseudoaligned\n",
      "\n",
      "\n",
      "[bustools] correcting barcodes..\n",
      "Found 6794880 barcodes in the whitelist\n",
      "Processed 59371726 bus records\n",
      "In whitelist = 57345535\n",
      "Corrected = 176786\n",
      "Uncorrected = 1849405\n",
      "\n",
      "[bustools] sorting bus file..\n",
      "Read in 57522321 BUS records\n",
      "\n",
      "[bustools] counting umis..\n",
      "Done.\n"
     ]
    }
   ],
   "source": [
    "!DS=\"mouse-heart1k_v3\" && \\\n",
    " REF=\"mouse-mm10\" && \\\n",
    " WHITELIST=\"../../reference/whitelist_10xv3.txt\" && \\\n",
    " ../scripts/kallisto_bus.sh \\\n",
    " -f ../../data/fastqs/$DS/ \\\n",
    " -o ../../data/kallisto_out/$DS \\\n",
    " -i ../../reference/$REF/kallisto.idx \\\n",
    " -g ../../reference/$REF/t2g.txt \\\n",
    " -w $WHITELIST \\\n",
    " -x 10xv2"
   ]
  },
  {
   "cell_type": "markdown",
   "metadata": {},
   "source": [
    "mouse-neuron10k_v3"
   ]
  },
  {
   "cell_type": "code",
   "execution_count": 11,
   "metadata": {},
   "outputs": [
    {
     "name": "stdout",
     "output_type": "stream",
     "text": [
      "\n",
      "[kallisto] pseudoaligning reads..\n",
      "\n",
      "[index] k-mer length: 31\n",
      "[index] number of targets: 111,079\n",
      "[index] number of k-mers: 102,195,391\n",
      "[index] number of equivalence classes: 372,074\n",
      "[quant] will process sample 1: ../../data/fastqs/mouse-neuron10k_v3/neuron_10k_v3_S1_L001_R1_001.fastq.gz\n",
      "                               ../../data/fastqs/mouse-neuron10k_v3/neuron_10k_v3_S1_L001_R2_001.fastq.gz\n",
      "[quant] will process sample 2: ../../data/fastqs/mouse-neuron10k_v3/neuron_10k_v3_S1_L002_R1_001.fastq.gz\n",
      "                               ../../data/fastqs/mouse-neuron10k_v3/neuron_10k_v3_S1_L002_R2_001.fastq.gz\n",
      "[quant] finding pseudoalignments for the reads ... done\n",
      "[quant] processed 357,111,595 reads, 235,669,599 reads pseudoaligned\n",
      "\n",
      "\n",
      "[bustools] correcting barcodes..\n",
      "Found 6794880 barcodes in the whitelist\n",
      "Processed 235669599 bus records\n",
      "In whitelist = 227709973\n",
      "Corrected = 659929\n",
      "Uncorrected = 7299697\n",
      "\n",
      "[bustools] sorting bus file..\n",
      "Read in 228369902 BUS records\n",
      "\n",
      "[bustools] counting umis..\n",
      "Done.\n"
     ]
    }
   ],
   "source": [
    "!DS=\"mouse-neuron10k_v3\" && \\\n",
    " REF=\"mouse-mm10\" && \\\n",
    " WHITELIST=\"../../reference/whitelist_10xv3.txt\" && \\\n",
    " ../scripts/kallisto_bus.sh \\\n",
    " -f ../../data/fastqs/$DS/ \\\n",
    " -o ../../data/kallisto_out/$DS \\\n",
    " -i ../../reference/$REF/kallisto.idx \\\n",
    " -g ../../reference/$REF/t2g.txt \\\n",
    " -w $WHITELIST \\\n",
    " -x 10xv2"
   ]
  },
  {
   "cell_type": "markdown",
   "metadata": {},
   "source": [
    "human-SRR8327928_v2"
   ]
  },
  {
   "cell_type": "code",
   "execution_count": null,
   "metadata": {},
   "outputs": [
    {
     "name": "stdout",
     "output_type": "stream",
     "text": [
      "\n",
      "[kallisto] pseudoaligning reads..\n",
      "\n",
      "[index] k-mer length: 31\n",
      "[index] number of targets: 172,912\n",
      "[index] number of k-mers: 113,209,587\n",
      "[index] number of equivalence classes: 698,286\n",
      "[quant] will process sample 1: ../../data/fastqs/human-SRR8327928_v2/bamtofastq_S1_L001_R1_001.fastq.gz\n",
      "                               ../../data/fastqs/human-SRR8327928_v2/bamtofastq_S1_L001_R2_001.fastq.gz\n",
      "[quant] will process sample 2: ../../data/fastqs/human-SRR8327928_v2/bamtofastq_S1_L002_R1_001.fastq.gz\n",
      "                               ../../data/fastqs/human-SRR8327928_v2/bamtofastq_S1_L002_R2_001.fastq.gz\n",
      "[quant] will process sample 3: ../../data/fastqs/human-SRR8327928_v2/bamtofastq_S1_L003_R1_001.fastq.gz\n",
      "                               ../../data/fastqs/human-SRR8327928_v2/bamtofastq_S1_L003_R2_001.fastq.gz\n",
      "[quant] will process sample 4: ../../data/fastqs/human-SRR8327928_v2/bamtofastq_S1_L004_R1_001.fastq.gz\n",
      "                               ../../data/fastqs/human-SRR8327928_v2/bamtofastq_S1_L004_R2_001.fastq.gz\n",
      "[quant] finding pseudoalignments for the reads ..."
     ]
    }
   ],
   "source": [
    "!DS=\"human-SRR8327928_v2\" && \\\n",
    " REF=\"human-grch38\" && \\\n",
    " WHITELIST=\"../../reference/whitelist_10xv2.txt\" && \\\n",
    " ../scripts/kallisto_bus.sh \\\n",
    " -f ../../data/fastqs/$DS/ \\\n",
    " -o ../../data/kallisto_out/$DS \\\n",
    " -i ../../reference/$REF/kallisto.idx \\\n",
    " -g ../../reference/$REF/t2g.txt \\\n",
    " -w $WHITELIST \\\n",
    " -x 10xv2"
   ]
  },
  {
   "cell_type": "markdown",
   "metadata": {},
   "source": [
    "human-SRR8524760_v2"
   ]
  },
  {
   "cell_type": "code",
   "execution_count": null,
   "metadata": {},
   "outputs": [],
   "source": [
    "!DS=\"human-SRR8524760_v2\" && \\\n",
    " REF=\"human-grch38\" && \\\n",
    " WHITELIST=\"../../reference/whitelist_10xv2.txt\" && \\\n",
    " ../scripts/kallisto_bus.sh \\\n",
    " -f ../../data/fastqs/$DS/ \\\n",
    " -o ../../data/kallisto_out/$DS \\\n",
    " -i ../../reference/$REF/kallisto.idx \\\n",
    " -g ../../reference/$REF/t2g.txt \\\n",
    " -w $WHITELIST \\\n",
    " -x 10xv2"
   ]
  },
  {
   "cell_type": "markdown",
   "metadata": {},
   "source": [
    "human-pbmc10k_v3"
   ]
  },
  {
   "cell_type": "code",
   "execution_count": null,
   "metadata": {},
   "outputs": [],
   "source": [
    "!DS=\"human-pbmc10k_v3\" && \\\n",
    " REF=\"human-grch38\" && \\\n",
    " WHITELIST=\"../../reference/whitelist_10xv3.txt\" && \\\n",
    " ../scripts/kallisto_bus.sh \\\n",
    " -f ../../data/fastqs/$DS/ \\\n",
    " -o ../../data/kallisto_out/$DS \\\n",
    " -i ../../reference/$REF/kallisto.idx \\\n",
    " -g ../../reference/$REF/t2g.txt \\\n",
    " -w $WHITELIST \\\n",
    " -x 10xv2"
   ]
  },
  {
   "cell_type": "markdown",
   "metadata": {},
   "source": [
    "human-pbmc1k_v3"
   ]
  },
  {
   "cell_type": "code",
   "execution_count": null,
   "metadata": {},
   "outputs": [],
   "source": [
    "!DS=\"human-pbmc1k_v3\" && \\\n",
    " REF=\"human-grch38\" && \\\n",
    " WHITELIST=\"../../reference/whitelist_10xv3.txt\" && \\\n",
    " ../scripts/kallisto_bus.sh \\\n",
    " -f ../../data/fastqs/$DS/ \\\n",
    " -o ../../data/kallisto_out/$DS \\\n",
    " -i ../../reference/$REF/kallisto.idx \\\n",
    " -g ../../reference/$REF/t2g.txt \\\n",
    " -w $WHITELIST \\\n",
    " -x 10xv2"
   ]
  },
  {
   "cell_type": "markdown",
   "metadata": {},
   "source": [
    "human_mouse-hgmm10k_v3"
   ]
  },
  {
   "cell_type": "code",
   "execution_count": null,
   "metadata": {},
   "outputs": [],
   "source": [
    "!DS=\"human_mouse-hgmm10k_v3\" && \\\n",
    " REF=\"human_mouse-hg19_mm10\" && \\\n",
    " WHITELIST=\"../../reference/whitelist_10xv3.txt\" && \\\n",
    " ../scripts/kallisto_bus.sh \\\n",
    " -f ../../data/fastqs/$DS/ \\\n",
    " -o ../../data/kallisto_out/$DS \\\n",
    " -i ../../reference/$REF/kallisto.idx \\\n",
    " -g ../../reference/$REF/t2g.txt \\\n",
    " -w $WHITELIST \\\n",
    " -x 10xv2"
   ]
  },
  {
   "cell_type": "markdown",
   "metadata": {},
   "source": [
    "human_mouse-hgmm1k_v2"
   ]
  },
  {
   "cell_type": "code",
   "execution_count": null,
   "metadata": {},
   "outputs": [],
   "source": [
    "!DS=\"human_mouse-hgmm1k_v2\" && \\\n",
    " REF=\"human_mouse-hg19_mm10\" && \\\n",
    " WHITELIST=\"../../reference/whitelist_10xv2.txt\" && \\\n",
    " ../scripts/kallisto_bus.sh \\\n",
    " -f ../../data/fastqs/$DS/ \\\n",
    " -o ../../data/kallisto_out/$DS \\\n",
    " -i ../../reference/$REF/kallisto.idx \\\n",
    " -g ../../reference/$REF/t2g.txt \\\n",
    " -w $WHITELIST \\\n",
    " -x 10xv2"
   ]
  },
  {
   "cell_type": "markdown",
   "metadata": {},
   "source": [
    "human_mouse-hgmm1k_v3"
   ]
  },
  {
   "cell_type": "code",
   "execution_count": null,
   "metadata": {},
   "outputs": [],
   "source": [
    "!DS=\"human_mouse-hgmm1k_v3\" && \\\n",
    " REF=\"human_mouse-hg19_mm10\" && \\\n",
    " WHITELIST=\"../../reference/whitelist_10xv3.txt\" && \\\n",
    " ../scripts/kallisto_bus.sh \\\n",
    " -f ../../data/fastqs/$DS/ \\\n",
    " -o ../../data/kallisto_out/$DS \\\n",
    " -i ../../reference/$REF/kallisto.idx \\\n",
    " -g ../../reference/$REF/t2g.txt \\\n",
    " -w $WHITELIST \\\n",
    " -x 10xv2"
   ]
  },
  {
   "cell_type": "markdown",
   "metadata": {},
   "source": [
    "arabidopsis-SRR8257100_v2"
   ]
  },
  {
   "cell_type": "code",
   "execution_count": null,
   "metadata": {},
   "outputs": [],
   "source": [
    "!DS=\"arabidopsis-SRR8257100_v2\" && \\\n",
    " REF=\"arabidopsis-tair10\" && \\\n",
    " WHITELIST=\"../../reference/whitelist_10xv2.txt\" && \\\n",
    " ../scripts/kallisto_bus.sh \\\n",
    " -f ../../data/fastqs/$DS/ \\\n",
    " -o ../../data/kallisto_out/$DS \\\n",
    " -i ../../reference/$REF/kallisto.idx \\\n",
    " -g ../../reference/$REF/t2g.txt \\\n",
    " -w $WHITELIST \\\n",
    " -x 10xv2"
   ]
  },
  {
   "cell_type": "markdown",
   "metadata": {},
   "source": [
    "fly-SRR8513910_v2"
   ]
  },
  {
   "cell_type": "code",
   "execution_count": null,
   "metadata": {},
   "outputs": [],
   "source": [
    "!DS=\"fly-SRR8513910_v2\" && \\\n",
    " REF=\"fly-dm6\" && \\\n",
    " WHITELIST=\"../../reference/whitelist_10xv2.txt\" && \\\n",
    " ../scripts/kallisto_bus.sh \\\n",
    " -f ../../data/fastqs/$DS/ \\\n",
    " -o ../../data/kallisto_out/$DS \\\n",
    " -i ../../reference/$REF/kallisto.idx \\\n",
    " -g ../../reference/$REF/t2g.txt \\\n",
    " -w $WHITELIST \\\n",
    " -x 10xv2"
   ]
  },
  {
   "cell_type": "markdown",
   "metadata": {},
   "source": [
    "rat-SRR7299563_v2"
   ]
  },
  {
   "cell_type": "code",
   "execution_count": null,
   "metadata": {},
   "outputs": [],
   "source": [
    "!DS=\"rat-SRR7299563_v2\" && \\\n",
    " REF=\"rat-rnor6\" && \\\n",
    " WHITELIST=\"../../reference/whitelist_10xv2.txt\" && \\\n",
    " ../scripts/kallisto_bus.sh \\\n",
    " -f ../../data/fastqs/$DS/ \\\n",
    " -o ../../data/kallisto_out/$DS \\\n",
    " -i ../../reference/$REF/kallisto.idx \\\n",
    " -g ../../reference/$REF/t2g.txt \\\n",
    " -w $WHITELIST \\\n",
    " -x 10xv2"
   ]
  },
  {
   "cell_type": "markdown",
   "metadata": {},
   "source": [
    "worm-SRR8611943_v2"
   ]
  },
  {
   "cell_type": "code",
   "execution_count": null,
   "metadata": {},
   "outputs": [],
   "source": [
    "!DS=\"worm-SRR8611943_v2\" && \\\n",
    " REF=\"worm-ws260\" && \\\n",
    " WHITELIST=\"../../reference/whitelist_10xv2.txt\" && \\\n",
    " ../scripts/kallisto_bus.sh \\\n",
    " -f ../../data/fastqs/$DS/ \\\n",
    " -o ../../data/kallisto_out/$DS \\\n",
    " -i ../../reference/$REF/kallisto.idx \\\n",
    " -g ../../reference/$REF/t2g.txt \\\n",
    " -w $WHITELIST \\\n",
    " -x 10xv2"
   ]
  },
  {
   "cell_type": "markdown",
   "metadata": {},
   "source": [
    "zebrafish-SRR6956073_v2"
   ]
  },
  {
   "cell_type": "code",
   "execution_count": null,
   "metadata": {},
   "outputs": [],
   "source": [
    "!DS=\"zebrafish-SRR6956073_v2\" && \\\n",
    " REF=\"zebrafish-dr82\" && \\\n",
    " WHITELIST=\"../../reference/whitelist_10xv2.txt\" && \\\n",
    " ../scripts/kallisto_bus.sh \\\n",
    " -f ../../data/fastqs/$DS/ \\\n",
    " -o ../../data/kallisto_out/$DS \\\n",
    " -i ../../reference/$REF/kallisto.idx \\\n",
    " -g ../../reference/$REF/t2g.txt \\\n",
    " -w $WHITELIST \\\n",
    " -x 10xv2"
   ]
  },
  {
   "cell_type": "code",
   "execution_count": null,
   "metadata": {},
   "outputs": [],
   "source": []
  },
  {
   "cell_type": "code",
   "execution_count": null,
   "metadata": {},
   "outputs": [],
   "source": []
  },
  {
   "cell_type": "code",
   "execution_count": null,
   "metadata": {},
   "outputs": [],
   "source": []
  },
  {
   "cell_type": "code",
   "execution_count": null,
   "metadata": {},
   "outputs": [],
   "source": []
  },
  {
   "cell_type": "code",
   "execution_count": null,
   "metadata": {},
   "outputs": [],
   "source": []
  },
  {
   "cell_type": "code",
   "execution_count": null,
   "metadata": {},
   "outputs": [],
   "source": []
  },
  {
   "cell_type": "code",
   "execution_count": null,
   "metadata": {},
   "outputs": [],
   "source": []
  },
  {
   "cell_type": "code",
   "execution_count": null,
   "metadata": {},
   "outputs": [],
   "source": []
  },
  {
   "cell_type": "code",
   "execution_count": null,
   "metadata": {},
   "outputs": [],
   "source": []
  },
  {
   "cell_type": "code",
   "execution_count": null,
   "metadata": {},
   "outputs": [],
   "source": []
  }
 ],
 "metadata": {
  "kernelspec": {
   "display_name": "Python 3",
   "language": "python",
   "name": "python3"
  },
  "language_info": {
   "codemirror_mode": {
    "name": "ipython",
    "version": 3
   },
   "file_extension": ".py",
   "mimetype": "text/x-python",
   "name": "python",
   "nbconvert_exporter": "python",
   "pygments_lexer": "ipython3",
   "version": "3.7.4"
  }
 },
 "nbformat": 4,
 "nbformat_minor": 4
}
