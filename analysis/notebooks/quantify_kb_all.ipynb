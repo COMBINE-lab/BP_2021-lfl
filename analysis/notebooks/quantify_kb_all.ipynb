{
 "cells": [
  {
   "cell_type": "markdown",
   "metadata": {},
   "source": [
    "mouse-SRR8206317_v2"
   ]
  },
  {
   "cell_type": "code",
   "execution_count": 2,
   "metadata": {},
   "outputs": [
    {
     "name": "stdout",
     "output_type": "stream",
     "text": [
      "\n",
      "[kallisto] pseudoaligning reads..\n",
      "\n",
      "[index] k-mer length: 31\n",
      "[index] number of targets: 111,079\n",
      "[index] number of k-mers: 102,195,391\n",
      "[index] number of equivalence classes: 372,074\n",
      "[quant] will process sample 1: ../../data/fastqs/mouse-SRR8206317_v2/bamtofastq_S1_L001_R1_001.fastq.gz\n",
      "                               ../../data/fastqs/mouse-SRR8206317_v2/bamtofastq_S1_L001_R2_001.fastq.gz\n",
      "[quant] will process sample 2: ../../data/fastqs/mouse-SRR8206317_v2/bamtofastq_S1_L002_R1_001.fastq.gz\n",
      "                               ../../data/fastqs/mouse-SRR8206317_v2/bamtofastq_S1_L002_R2_001.fastq.gz\n",
      "[quant] will process sample 3: ../../data/fastqs/mouse-SRR8206317_v2/bamtofastq_S1_L003_R1_001.fastq.gz\n",
      "                               ../../data/fastqs/mouse-SRR8206317_v2/bamtofastq_S1_L003_R2_001.fastq.gz\n",
      "[quant] will process sample 4: ../../data/fastqs/mouse-SRR8206317_v2/bamtofastq_S1_L004_R1_001.fastq.gz\n",
      "                               ../../data/fastqs/mouse-SRR8206317_v2/bamtofastq_S1_L004_R2_001.fastq.gz\n",
      "[quant] finding pseudoalignments for the reads ... done\n",
      "[quant] processed 85,992,089 reads, 68,806,093 reads pseudoaligned\n",
      "\n",
      "[bustools] correcting barcodes..\n",
      "Found 737280 barcodes in the whitelist\n",
      "Processed 68806093 bus records\n",
      "In whitelist = 66294966\n",
      "Corrected = 782287\n",
      "Uncorrected = 1728840\n",
      "\n",
      "[bustools] sorting bus file..\n",
      "Read in 67077253 BUS records\n",
      "\n",
      "[bustools] counting umis..\n"
     ]
    }
   ],
   "source": [
    "!DS=\"mouse-SRR8206317_v2\" && \\\n",
    " REF=\"mouse-mm10\" && \\\n",
    " WHITELIST=\"../../reference/whitelist_10xv2.txt\" && \\\n",
    " ../scripts/kallisto_bus.sh \\\n",
    " -f ../../data/fastqs/$DS/ \\\n",
    " -o ../../data/kallisto_out/$DS \\\n",
    " -i ../../reference/$REF/kallisto.idx \\\n",
    " -g ../../reference/$REF/t2g.txt \\\n",
    " -w $WHITELIST \\\n",
    " -x 10xv2"
   ]
  },
  {
   "cell_type": "markdown",
   "metadata": {},
   "source": [
    "mouse-SRR6998058_v2"
   ]
  },
  {
   "cell_type": "code",
   "execution_count": 3,
   "metadata": {},
   "outputs": [
    {
     "name": "stdout",
     "output_type": "stream",
     "text": [
      "\n",
      "[kallisto] pseudoaligning reads..\n",
      "\n",
      "[index] k-mer length: 31\n",
      "[index] number of targets: 111,079\n",
      "[index] number of k-mers: 102,195,391\n",
      "[index] number of equivalence classes: 372,074\n",
      "[quant] will process sample 1: ../../data/fastqs/mouse-SRR6998058_v2/bamtofastq_S1_L001_R1_001.fastq.gz\n",
      "                               ../../data/fastqs/mouse-SRR6998058_v2/bamtofastq_S1_L001_R2_001.fastq.gz\n",
      "[quant] will process sample 2: ../../data/fastqs/mouse-SRR6998058_v2/bamtofastq_S1_L002_R1_001.fastq.gz\n",
      "                               ../../data/fastqs/mouse-SRR6998058_v2/bamtofastq_S1_L002_R2_001.fastq.gz\n",
      "[quant] will process sample 3: ../../data/fastqs/mouse-SRR6998058_v2/bamtofastq_S1_L003_R1_001.fastq.gz\n",
      "                               ../../data/fastqs/mouse-SRR6998058_v2/bamtofastq_S1_L003_R2_001.fastq.gz\n",
      "[quant] will process sample 4: ../../data/fastqs/mouse-SRR6998058_v2/bamtofastq_S1_L004_R1_001.fastq.gz\n",
      "                               ../../data/fastqs/mouse-SRR6998058_v2/bamtofastq_S1_L004_R2_001.fastq.gz\n",
      "[quant] finding pseudoalignments for the reads ... done\n",
      "[quant] processed 37,227,612 reads, 29,201,463 reads pseudoaligned\n",
      "\n",
      "[bustools] correcting barcodes..\n",
      "Found 737280 barcodes in the whitelist\n",
      "Processed 29201463 bus records\n",
      "In whitelist = 28344188\n",
      "Corrected = 231718\n",
      "Uncorrected = 625557\n",
      "\n",
      "[bustools] sorting bus file..\n",
      "Read in 28575906 BUS records\n",
      "\n",
      "[bustools] counting umis..\n",
      "Done.\n"
     ]
    }
   ],
   "source": [
    "!DS=\"mouse-SRR6998058_v2\" && \\\n",
    " REF=\"mouse-mm10\" && \\\n",
    " WHITELIST=\"../../reference/whitelist_10xv2.txt\" && \\\n",
    " ../scripts/kallisto_bus.sh \\\n",
    " -f ../../data/fastqs/$DS/ \\\n",
    " -o ../../data/kallisto_out/$DS \\\n",
    " -i ../../reference/$REF/kallisto.idx \\\n",
    " -g ../../reference/$REF/t2g.txt \\\n",
    " -w $WHITELIST \\\n",
    " -x 10xv2"
   ]
  },
  {
   "cell_type": "markdown",
   "metadata": {},
   "source": [
    "mouse-SRR8206317_v2"
   ]
  },
  {
   "cell_type": "code",
   "execution_count": 4,
   "metadata": {},
   "outputs": [
    {
     "name": "stdout",
     "output_type": "stream",
     "text": [
      "\n",
      "[kallisto] pseudoaligning reads..\n",
      "\n",
      "[index] k-mer length: 31\n",
      "[index] number of targets: 111,079\n",
      "[index] number of k-mers: 102,195,391\n",
      "[index] number of equivalence classes: 372,074\n",
      "[quant] will process sample 1: ../../data/fastqs/mouse-SRR8206317_v2/bamtofastq_S1_L001_R1_001.fastq.gz\n",
      "                               ../../data/fastqs/mouse-SRR8206317_v2/bamtofastq_S1_L001_R2_001.fastq.gz\n",
      "[quant] will process sample 2: ../../data/fastqs/mouse-SRR8206317_v2/bamtofastq_S1_L002_R1_001.fastq.gz\n",
      "                               ../../data/fastqs/mouse-SRR8206317_v2/bamtofastq_S1_L002_R2_001.fastq.gz\n",
      "[quant] will process sample 3: ../../data/fastqs/mouse-SRR8206317_v2/bamtofastq_S1_L003_R1_001.fastq.gz\n",
      "                               ../../data/fastqs/mouse-SRR8206317_v2/bamtofastq_S1_L003_R2_001.fastq.gz\n",
      "[quant] will process sample 4: ../../data/fastqs/mouse-SRR8206317_v2/bamtofastq_S1_L004_R1_001.fastq.gz\n",
      "                               ../../data/fastqs/mouse-SRR8206317_v2/bamtofastq_S1_L004_R2_001.fastq.gz\n",
      "[quant] finding pseudoalignments for the reads ... done\n",
      "[quant] processed 85,992,089 reads, 68,806,093 reads pseudoaligned\n",
      "\n",
      "[bustools] correcting barcodes..\n",
      "Found 737280 barcodes in the whitelist\n",
      "Processed 68806093 bus records\n",
      "In whitelist = 66294966\n",
      "Corrected = 782287\n",
      "Uncorrected = 1728840\n",
      "\n",
      "[bustools] sorting bus file..\n",
      "Read in 67077253 BUS records\n",
      "\n",
      "[bustools] counting umis..\n",
      "Done.\n"
     ]
    }
   ],
   "source": [
    "!DS=\"mouse-SRR8206317_v2\" && \\\n",
    " REF=\"mouse-mm10\" && \\\n",
    " WHITELIST=\"../../reference/whitelist_10xv2.txt\" && \\\n",
    " ../scripts/kallisto_bus.sh \\\n",
    " -f ../../data/fastqs/$DS/ \\\n",
    " -o ../../data/kallisto_out/$DS \\\n",
    " -i ../../reference/$REF/kallisto.idx \\\n",
    " -g ../../reference/$REF/t2g.txt \\\n",
    " -w $WHITELIST \\\n",
    " -x 10xv2"
   ]
  },
  {
   "cell_type": "markdown",
   "metadata": {},
   "source": [
    "mouse-EMTAB7320_v2"
   ]
  },
  {
   "cell_type": "code",
   "execution_count": 6,
   "metadata": {},
   "outputs": [
    {
     "name": "stdout",
     "output_type": "stream",
     "text": [
      "\n",
      "[kallisto] pseudoaligning reads..\n",
      "\n",
      "[index] k-mer length: 31\n",
      "[index] number of targets: 111,079\n",
      "[index] number of k-mers: 102,195,391\n",
      "[index] number of equivalence classes: 372,074\n",
      "[quant] will process sample 1: ../../data/fastqs/mouse-EMTAB7320_v2/SAG657A3_S2_L002_R1_001.fastq.gz\n",
      "                               ../../data/fastqs/mouse-EMTAB7320_v2/SAG657A3_S2_L002_R2_001.fastq.gz\n",
      "[quant] finding pseudoalignments for the reads ... done\n",
      "[quant] processed 335,147,976 reads, 272,232,224 reads pseudoaligned\n",
      "\n",
      "[bustools] correcting barcodes..\n",
      "Found 737280 barcodes in the whitelist\n",
      "Processed 272232224 bus records\n",
      "In whitelist = 258864227\n",
      "Corrected = 4111830\n",
      "Uncorrected = 9256167\n",
      "\n",
      "[bustools] sorting bus file..\n",
      "Read in 262976057 BUS records\n",
      "\n",
      "[bustools] counting umis..\n",
      "Done.\n"
     ]
    }
   ],
   "source": [
    "!DS=\"mouse-EMTAB7320_v2\" && \\\n",
    " REF=\"mouse-mm10\" && \\\n",
    " WHITELIST=\"../../reference/whitelist_10xv2.txt\" && \\\n",
    " ../scripts/kallisto_bus.sh \\\n",
    " -f ../../data/fastqs/$DS/ \\\n",
    " -o ../../data/kallisto_out/$DS \\\n",
    " -i ../../reference/$REF/kallisto.idx \\\n",
    " -g ../../reference/$REF/t2g.txt \\\n",
    " -w $WHITELIST \\\n",
    " -x 10xv2"
   ]
  },
  {
   "cell_type": "markdown",
   "metadata": {},
   "source": [
    "mouse-SRR8599150_v2"
   ]
  },
  {
   "cell_type": "code",
   "execution_count": 7,
   "metadata": {},
   "outputs": [
    {
     "name": "stdout",
     "output_type": "stream",
     "text": [
      "\n",
      "[kallisto] pseudoaligning reads..\n",
      "\n",
      "[index] k-mer length: 31\n",
      "[index] number of targets: 111,079\n",
      "[index] number of k-mers: 102,195,391\n",
      "[index] number of equivalence classes: 372,074\n",
      "[quant] will process sample 1: ../../data/fastqs/mouse-SRR8599150_v2/SRR8599150_S1_L001_R1_001.fastq.gz\n",
      "                               ../../data/fastqs/mouse-SRR8599150_v2/SRR8599150_S1_L001_R2_001.fastq.gz\n",
      "[quant] finding pseudoalignments for the reads ... done\n",
      "[quant] processed 8,860,361 reads, 3,575,753 reads pseudoaligned\n",
      "\n",
      "[bustools] correcting barcodes..\n",
      "Found 737280 barcodes in the whitelist\n",
      "Processed 3575753 bus records\n",
      "In whitelist = 3420063\n",
      "Corrected = 38493\n",
      "Uncorrected = 117197\n",
      "\n",
      "[bustools] sorting bus file..\n",
      "Read in 3458556 BUS records\n",
      "\n",
      "[bustools] counting umis..\n",
      "Done.\n"
     ]
    }
   ],
   "source": [
    "!DS=\"mouse-SRR8599150_v2\" && \\\n",
    " REF=\"mouse-mm10\" && \\\n",
    " WHITELIST=\"../../reference/whitelist_10xv2.txt\" && \\\n",
    " ../scripts/kallisto_bus.sh \\\n",
    " -f ../../data/fastqs/$DS/ \\\n",
    " -o ../../data/kallisto_out/$DS \\\n",
    " -i ../../reference/$REF/kallisto.idx \\\n",
    " -g ../../reference/$REF/t2g.txt \\\n",
    " -w $WHITELIST \\\n",
    " -x 10xv2"
   ]
  },
  {
   "cell_type": "markdown",
   "metadata": {},
   "source": [
    "mouse-SRR8639063_v2"
   ]
  },
  {
   "cell_type": "code",
   "execution_count": 8,
   "metadata": {},
   "outputs": [
    {
     "name": "stdout",
     "output_type": "stream",
     "text": [
      "\n",
      "[kallisto] pseudoaligning reads..\n",
      "\n",
      "[index] k-mer length: 31\n",
      "[index] number of targets: 111,079\n",
      "[index] number of k-mers: 102,195,391\n",
      "[index] number of equivalence classes: 372,074\n",
      "[quant] will process sample 1: ../../data/fastqs/mouse-SRR8639063_v2/SRR8639063_S1_L001_R1_001.fastq.gz\n",
      "                               ../../data/fastqs/mouse-SRR8639063_v2/SRR8639063_S1_L001_R2_001.fastq.gz\n",
      "[quant] finding pseudoalignments for the reads ... done\n",
      "[quant] processed 416,437,344 reads, 352,250,456 reads pseudoaligned\n",
      "\n",
      "[bustools] correcting barcodes..\n",
      "Found 737280 barcodes in the whitelist\n",
      "Processed 352250456 bus records\n",
      "In whitelist = 348557155\n",
      "Corrected = 1857224\n",
      "Uncorrected = 1836077\n",
      "\n",
      "[bustools] sorting bus file..\n",
      "Read in 350414379 BUS records\n",
      "\n",
      "[bustools] counting umis..\n",
      "Done.\n"
     ]
    }
   ],
   "source": [
    "!DS=\"mouse-SRR8639063_v2\" && \\\n",
    " REF=\"mouse-mm10\" && \\\n",
    " WHITELIST=\"../../reference/whitelist_10xv2.txt\" && \\\n",
    " ../scripts/kallisto_bus.sh \\\n",
    " -f ../../data/fastqs/$DS/ \\\n",
    " -o ../../data/kallisto_out/$DS \\\n",
    " -i ../../reference/$REF/kallisto.idx \\\n",
    " -g ../../reference/$REF/t2g.txt \\\n",
    " -w $WHITELIST \\\n",
    " -x 10xv2"
   ]
  },
  {
   "cell_type": "markdown",
   "metadata": {},
   "source": [
    "mouse-heart1k_v2"
   ]
  },
  {
   "cell_type": "code",
   "execution_count": 9,
   "metadata": {},
   "outputs": [
    {
     "name": "stdout",
     "output_type": "stream",
     "text": [
      "\n",
      "[kallisto] pseudoaligning reads..\n",
      "\n",
      "[index] k-mer length: 31\n",
      "[index] number of targets: 111,079\n",
      "[index] number of k-mers: 102,195,391\n",
      "[index] number of equivalence classes: 372,074\n",
      "[quant] will process sample 1: ../../data/fastqs/mouse-heart1k_v2/heart_1k_v2_S1_L001_R1_001.fastq.gz\n",
      "                               ../../data/fastqs/mouse-heart1k_v2/heart_1k_v2_S1_L001_R2_001.fastq.gz\n",
      "[quant] will process sample 2: ../../data/fastqs/mouse-heart1k_v2/heart_1k_v2_S1_L002_R1_001.fastq.gz\n",
      "                               ../../data/fastqs/mouse-heart1k_v2/heart_1k_v2_S1_L002_R2_001.fastq.gz\n",
      "[quant] finding pseudoalignments for the reads ... done\n",
      "[quant] processed 88,872,840 reads, 69,724,725 reads pseudoaligned\n",
      "\n",
      "\n",
      "[bustools] correcting barcodes..\n",
      "Found 737280 barcodes in the whitelist\n",
      "Processed 69724725 bus records\n",
      "In whitelist = 67365891\n",
      "Corrected = 345420\n",
      "Uncorrected = 2013414\n",
      "\n",
      "[bustools] sorting bus file..\n",
      "Read in 67711311 BUS records\n",
      "\n",
      "[bustools] counting umis..\n",
      "Done.\n"
     ]
    }
   ],
   "source": [
    "!DS=\"mouse-heart1k_v2\" && \\\n",
    " REF=\"mouse-mm10\" && \\\n",
    " WHITELIST=\"../../reference/whitelist_10xv2.txt\" && \\\n",
    " ../scripts/kallisto_bus.sh \\\n",
    " -f ../../data/fastqs/$DS/ \\\n",
    " -o ../../data/kallisto_out/$DS \\\n",
    " -i ../../reference/$REF/kallisto.idx \\\n",
    " -g ../../reference/$REF/t2g.txt \\\n",
    " -w $WHITELIST \\\n",
    " -x 10xv2"
   ]
  },
  {
   "cell_type": "markdown",
   "metadata": {},
   "source": [
    "mouse-heart1k_v3"
   ]
  },
  {
   "cell_type": "code",
   "execution_count": null,
   "metadata": {},
   "outputs": [
    {
     "name": "stdout",
     "output_type": "stream",
     "text": [
      "\n",
      "[kallisto] pseudoaligning reads..\n",
      "\n",
      "[index] k-mer length: 31\n",
      "[index] number of targets: 111,079\n",
      "[index] number of k-mers: 102,195,391\n",
      "[index] number of equivalence classes: 372,074\n",
      "[quant] will process sample 1: ../../data/fastqs/mouse-heart1k_v3/heart_1k_v3_S1_L001_R1_001.fastq.gz\n",
      "                               ../../data/fastqs/mouse-heart1k_v3/heart_1k_v3_S1_L001_R2_001.fastq.gz\n",
      "[quant] will process sample 2: ../../data/fastqs/mouse-heart1k_v3/heart_1k_v3_S1_L002_R1_001.fastq.gz\n",
      "                               ../../data/fastqs/mouse-heart1k_v3/heart_1k_v3_S1_L002_R2_001.fastq.gz\n",
      "[quant] finding pseudoalignments for the reads ..."
     ]
    }
   ],
   "source": [
    "!DS=\"mouse-heart1k_v3\" && \\\n",
    " REF=\"mouse-mm10\" && \\\n",
    " WHITELIST=\"../../reference/whitelist_10xv3.txt\" && \\\n",
    " ../scripts/kallisto_bus.sh \\\n",
    " -f ../../data/fastqs/$DS/ \\\n",
    " -o ../../data/kallisto_out/$DS \\\n",
    " -i ../../reference/$REF/kallisto.idx \\\n",
    " -g ../../reference/$REF/t2g.txt \\\n",
    " -w $WHITELIST \\\n",
    " -x 10xv3"
   ]
  },
  {
   "cell_type": "markdown",
   "metadata": {},
   "source": [
    "mouse-neuron10k_v3"
   ]
  },
  {
   "cell_type": "code",
   "execution_count": null,
   "metadata": {},
   "outputs": [],
   "source": [
    "!DS=\"mouse-neuron10k_v3\" && \\\n",
    " REF=\"mouse-mm10\" && \\\n",
    " WHITELIST=\"../../reference/whitelist_10xv3.txt\" && \\\n",
    " ../scripts/kallisto_bus.sh \\\n",
    " -f ../../data/fastqs/$DS/ \\\n",
    " -o ../../data/kallisto_out/$DS \\\n",
    " -i ../../reference/$REF/kallisto.idx \\\n",
    " -g ../../reference/$REF/t2g.txt \\\n",
    " -w $WHITELIST \\\n",
    " -x 10xv3"
   ]
  },
  {
   "cell_type": "markdown",
   "metadata": {},
   "source": [
    "human-SRR8327928_v2"
   ]
  },
  {
   "cell_type": "code",
   "execution_count": 12,
   "metadata": {},
   "outputs": [
    {
     "name": "stdout",
     "output_type": "stream",
     "text": [
      "\n",
      "[kallisto] pseudoaligning reads..\n",
      "\n",
      "[index] k-mer length: 31\n",
      "[index] number of targets: 172,912\n",
      "[index] number of k-mers: 113,209,587\n",
      "[index] number of equivalence classes: 698,286\n",
      "[quant] will process sample 1: ../../data/fastqs/human-SRR8327928_v2/bamtofastq_S1_L001_R1_001.fastq.gz\n",
      "                               ../../data/fastqs/human-SRR8327928_v2/bamtofastq_S1_L001_R2_001.fastq.gz\n",
      "[quant] will process sample 2: ../../data/fastqs/human-SRR8327928_v2/bamtofastq_S1_L002_R1_001.fastq.gz\n",
      "                               ../../data/fastqs/human-SRR8327928_v2/bamtofastq_S1_L002_R2_001.fastq.gz\n",
      "[quant] will process sample 3: ../../data/fastqs/human-SRR8327928_v2/bamtofastq_S1_L003_R1_001.fastq.gz\n",
      "                               ../../data/fastqs/human-SRR8327928_v2/bamtofastq_S1_L003_R2_001.fastq.gz\n",
      "[quant] will process sample 4: ../../data/fastqs/human-SRR8327928_v2/bamtofastq_S1_L004_R1_001.fastq.gz\n",
      "                               ../../data/fastqs/human-SRR8327928_v2/bamtofastq_S1_L004_R2_001.fastq.gz\n",
      "[quant] finding pseudoalignments for the reads ... done\n",
      "[quant] processed 190,094,560 reads, 117,726,064 reads pseudoaligned\n",
      "\n",
      "\n",
      "[bustools] correcting barcodes..\n",
      "Found 737280 barcodes in the whitelist\n",
      "Processed 117726064 bus records\n",
      "In whitelist = 111254198\n",
      "Corrected = 1567548\n",
      "Uncorrected = 4904318\n",
      "\n",
      "[bustools] sorting bus file..\n",
      "Read in 112821746 BUS records\n",
      "\n",
      "[bustools] counting umis..\n",
      "Done.\n"
     ]
    }
   ],
   "source": [
    "!DS=\"human-SRR8327928_v2\" && \\\n",
    " REF=\"human-grch38\" && \\\n",
    " WHITELIST=\"../../reference/whitelist_10xv2.txt\" && \\\n",
    " ../scripts/kallisto_bus.sh \\\n",
    " -f ../../data/fastqs/$DS/ \\\n",
    " -o ../../data/kallisto_out/$DS \\\n",
    " -i ../../reference/$REF/kallisto.idx \\\n",
    " -g ../../reference/$REF/t2g.txt \\\n",
    " -w $WHITELIST \\\n",
    " -x 10xv2"
   ]
  },
  {
   "cell_type": "markdown",
   "metadata": {},
   "source": [
    "human-SRR8524760_v2"
   ]
  },
  {
   "cell_type": "code",
   "execution_count": 13,
   "metadata": {},
   "outputs": [
    {
     "name": "stdout",
     "output_type": "stream",
     "text": [
      "\n",
      "[kallisto] pseudoaligning reads..\n",
      "\n",
      "[index] k-mer length: 31\n",
      "[index] number of targets: 172,912\n",
      "[index] number of k-mers: 113,209,587\n",
      "[index] number of equivalence classes: 698,286\n",
      "[quant] will process sample 1: ../../data/fastqs/human-SRR8524760_v2/bamtofastq_S1_L001_R1_001.fastq.gz\n",
      "                               ../../data/fastqs/human-SRR8524760_v2/bamtofastq_S1_L001_R2_001.fastq.gz\n",
      "[quant] will process sample 2: ../../data/fastqs/human-SRR8524760_v2/bamtofastq_S1_L002_R1_001.fastq.gz\n",
      "                               ../../data/fastqs/human-SRR8524760_v2/bamtofastq_S1_L002_R2_001.fastq.gz\n",
      "[quant] will process sample 3: ../../data/fastqs/human-SRR8524760_v2/bamtofastq_S1_L003_R1_001.fastq.gz\n",
      "                               ../../data/fastqs/human-SRR8524760_v2/bamtofastq_S1_L003_R2_001.fastq.gz\n",
      "[quant] will process sample 4: ../../data/fastqs/human-SRR8524760_v2/bamtofastq_S1_L004_R1_001.fastq.gz\n",
      "                               ../../data/fastqs/human-SRR8524760_v2/bamtofastq_S1_L004_R2_001.fastq.gz\n",
      "[quant] finding pseudoalignments for the reads ... done\n",
      "[quant] processed 97,106,426 reads, 70,878,207 reads pseudoaligned\n",
      "\n",
      "\n",
      "[bustools] correcting barcodes..\n",
      "Found 737280 barcodes in the whitelist\n",
      "Processed 70878207 bus records\n",
      "In whitelist = 68514365\n",
      "Corrected = 615351\n",
      "Uncorrected = 1748491\n",
      "\n",
      "[bustools] sorting bus file..\n",
      "Read in 69129716 BUS records\n",
      "\n",
      "[bustools] counting umis..\n",
      "Done.\n"
     ]
    }
   ],
   "source": [
    "!DS=\"human-SRR8524760_v2\" && \\\n",
    " REF=\"human-grch38\" && \\\n",
    " WHITELIST=\"../../reference/whitelist_10xv2.txt\" && \\\n",
    " ../scripts/kallisto_bus.sh \\\n",
    " -f ../../data/fastqs/$DS/ \\\n",
    " -o ../../data/kallisto_out/$DS \\\n",
    " -i ../../reference/$REF/kallisto.idx \\\n",
    " -g ../../reference/$REF/t2g.txt \\\n",
    " -w $WHITELIST \\\n",
    " -x 10xv2"
   ]
  },
  {
   "cell_type": "markdown",
   "metadata": {},
   "source": [
    "human-pbmc10k_v3"
   ]
  },
  {
   "cell_type": "code",
   "execution_count": null,
   "metadata": {},
   "outputs": [],
   "source": [
    "!DS=\"human-pbmc10k_v3\" && \\\n",
    " REF=\"human-grch38\" && \\\n",
    " WHITELIST=\"../../reference/whitelist_10xv3.txt\" && \\\n",
    " ../scripts/kallisto_bus.sh \\\n",
    " -f ../../data/fastqs/$DS/ \\\n",
    " -o ../../data/kallisto_out/$DS \\\n",
    " -i ../../reference/$REF/kallisto.idx \\\n",
    " -g ../../reference/$REF/t2g.txt \\\n",
    " -w $WHITELIST \\\n",
    " -x 10xv3"
   ]
  },
  {
   "cell_type": "markdown",
   "metadata": {},
   "source": [
    "human-pbmc1k_v3"
   ]
  },
  {
   "cell_type": "code",
   "execution_count": null,
   "metadata": {},
   "outputs": [],
   "source": [
    "!DS=\"human-pbmc1k_v3\" && \\\n",
    " REF=\"human-grch38\" && \\\n",
    " WHITELIST=\"../../reference/whitelist_10xv3.txt\" && \\\n",
    " ../scripts/kallisto_bus.sh \\\n",
    " -f ../../data/fastqs/$DS/ \\\n",
    " -o ../../data/kallisto_out/$DS \\\n",
    " -i ../../reference/$REF/kallisto.idx \\\n",
    " -g ../../reference/$REF/t2g.txt \\\n",
    " -w $WHITELIST \\\n",
    " -x 10xv3"
   ]
  },
  {
   "cell_type": "markdown",
   "metadata": {},
   "source": [
    "human_mouse-hgmm10k_v3"
   ]
  },
  {
   "cell_type": "code",
   "execution_count": null,
   "metadata": {},
   "outputs": [],
   "source": [
    "!DS=\"human_mouse-hgmm10k_v3\" && \\\n",
    " REF=\"human_mouse-hg19_mm10\" && \\\n",
    " WHITELIST=\"../../reference/whitelist_10xv3.txt\" && \\\n",
    " ../scripts/kallisto_bus.sh \\\n",
    " -f ../../data/fastqs/$DS/ \\\n",
    " -o ../../data/kallisto_out/$DS \\\n",
    " -i ../../reference/$REF/kallisto.idx \\\n",
    " -g ../../reference/$REF/t2g.txt \\\n",
    " -w $WHITELIST \\\n",
    " -x 10xv3"
   ]
  },
  {
   "cell_type": "markdown",
   "metadata": {},
   "source": [
    "human_mouse-hgmm1k_v2"
   ]
  },
  {
   "cell_type": "code",
   "execution_count": 17,
   "metadata": {},
   "outputs": [
    {
     "name": "stdout",
     "output_type": "stream",
     "text": [
      "\n",
      "[kallisto] pseudoaligning reads..\n",
      "\n",
      "[index] k-mer length: 31\n",
      "[index] number of targets: 333,131\n",
      "[index] number of k-mers: 232,458,054\n",
      "[index] number of equivalence classes: 1,340,916\n",
      "[quant] will process sample 1: ../../data/fastqs/human_mouse-hgmm1k_v2/hgmm_1k_v2_S1_L001_R1_001.fastq.gz\n",
      "                               ../../data/fastqs/human_mouse-hgmm1k_v2/hgmm_1k_v2_S1_L001_R2_001.fastq.gz\n",
      "[quant] will process sample 2: ../../data/fastqs/human_mouse-hgmm1k_v2/hgmm_1k_v2_S1_L002_R1_001.fastq.gz\n",
      "                               ../../data/fastqs/human_mouse-hgmm1k_v2/hgmm_1k_v2_S1_L002_R2_001.fastq.gz\n",
      "[quant] finding pseudoalignments for the reads ... done\n",
      "[quant] processed 75,225,120 reads, 60,917,143 reads pseudoaligned\n",
      "\n",
      "\n",
      "[bustools] correcting barcodes..\n",
      "Found 737280 barcodes in the whitelist\n",
      "Processed 60917143 bus records\n",
      "In whitelist = 58523823\n",
      "Corrected = 358110\n",
      "Uncorrected = 2035210\n",
      "\n",
      "[bustools] sorting bus file..\n",
      "Read in 58881933 BUS records\n",
      "\n",
      "[bustools] counting umis..\n",
      "Done.\n"
     ]
    }
   ],
   "source": [
    "!DS=\"human_mouse-hgmm1k_v2\" && \\\n",
    " REF=\"human_mouse-hg19_mm10\" && \\\n",
    " WHITELIST=\"../../reference/whitelist_10xv2.txt\" && \\\n",
    " ../scripts/kallisto_bus.sh \\\n",
    " -f ../../data/fastqs/$DS/ \\\n",
    " -o ../../data/kallisto_out/$DS \\\n",
    " -i ../../reference/$REF/kallisto.idx \\\n",
    " -g ../../reference/$REF/t2g.txt \\\n",
    " -w $WHITELIST \\\n",
    " -x 10xv2"
   ]
  },
  {
   "cell_type": "markdown",
   "metadata": {},
   "source": [
    "human_mouse-hgmm1k_v3"
   ]
  },
  {
   "cell_type": "code",
   "execution_count": null,
   "metadata": {},
   "outputs": [],
   "source": [
    "!DS=\"human_mouse-hgmm1k_v3\" && \\\n",
    " REF=\"human_mouse-hg19_mm10\" && \\\n",
    " WHITELIST=\"../../reference/whitelist_10xv3.txt\" && \\\n",
    " ../scripts/kallisto_bus.sh \\\n",
    " -f ../../data/fastqs/$DS/ \\\n",
    " -o ../../data/kallisto_out/$DS \\\n",
    " -i ../../reference/$REF/kallisto.idx \\\n",
    " -g ../../reference/$REF/t2g.txt \\\n",
    " -w $WHITELIST \\\n",
    " -x 10xv3"
   ]
  },
  {
   "cell_type": "markdown",
   "metadata": {},
   "source": [
    "arabidopsis-SRR8257100_v2"
   ]
  },
  {
   "cell_type": "code",
   "execution_count": 19,
   "metadata": {},
   "outputs": [
    {
     "name": "stdout",
     "output_type": "stream",
     "text": [
      "\n",
      "[kallisto] pseudoaligning reads..\n",
      "\n",
      "[index] k-mer length: 31\n",
      "[index] number of targets: 41,671\n",
      "[index] number of k-mers: 47,760,979\n",
      "[index] number of equivalence classes: 115,798\n",
      "[quant] will process sample 1: ../../data/fastqs/arabidopsis-SRR8257100_v2/SRR8257100_S1_L001_R1_001.fastq.gz\n",
      "                               ../../data/fastqs/arabidopsis-SRR8257100_v2/SRR8257100_S1_L001_R2_001.fastq.gz\n",
      "[quant] finding pseudoalignments for the reads ... done\n",
      "[quant] processed 189,337,914 reads, 178,826,792 reads pseudoaligned\n",
      "\n",
      "\n",
      "[bustools] correcting barcodes..\n",
      "Found 737280 barcodes in the whitelist\n",
      "Processed 178826792 bus records\n",
      "In whitelist = 173540630\n",
      "Corrected = 1094514\n",
      "Uncorrected = 4191648\n",
      "\n",
      "[bustools] sorting bus file..\n",
      "Read in 174635144 BUS records\n",
      "\n",
      "[bustools] counting umis..\n",
      "Done.\n"
     ]
    }
   ],
   "source": [
    "!DS=\"arabidopsis-SRR8257100_v2\" && \\\n",
    " REF=\"arabidopsis-tair10\" && \\\n",
    " WHITELIST=\"../../reference/whitelist_10xv2.txt\" && \\\n",
    " ../scripts/kallisto_bus.sh \\\n",
    " -f ../../data/fastqs/$DS/ \\\n",
    " -o ../../data/kallisto_out/$DS \\\n",
    " -i ../../reference/$REF/kallisto.idx \\\n",
    " -g ../../reference/$REF/t2g.txt \\\n",
    " -w $WHITELIST \\\n",
    " -x 10xv2"
   ]
  },
  {
   "cell_type": "markdown",
   "metadata": {},
   "source": [
    "fly-SRR8513910_v2"
   ]
  },
  {
   "cell_type": "code",
   "execution_count": 20,
   "metadata": {},
   "outputs": [
    {
     "name": "stdout",
     "output_type": "stream",
     "text": [
      "\n",
      "[kallisto] pseudoaligning reads..\n",
      "\n",
      "[index] k-mer length: 31\n",
      "[index] number of targets: 34,509\n",
      "[index] number of k-mers: 35,116,434\n",
      "[index] number of equivalence classes: 64,945\n",
      "[quant] will process sample 1: ../../data/fastqs/fly-SRR8513910_v2/SRR8513910_S1_L001_R1_001.fastq.gz\n",
      "                               ../../data/fastqs/fly-SRR8513910_v2/SRR8513910_S1_L001_R2_001.fastq.gz\n",
      "[quant] finding pseudoalignments for the reads ... done\n",
      "[quant] processed 146,617,182 reads, 135,687,789 reads pseudoaligned\n",
      "\n",
      "\n",
      "[bustools] correcting barcodes..\n",
      "Found 737280 barcodes in the whitelist\n",
      "Processed 135687789 bus records\n",
      "In whitelist = 131004911\n",
      "Corrected = 910116\n",
      "Uncorrected = 3772762\n",
      "\n",
      "[bustools] sorting bus file..\n",
      "Read in 131915027 BUS records\n",
      "\n",
      "[bustools] counting umis..\n",
      "Done.\n"
     ]
    }
   ],
   "source": [
    "!DS=\"fly-SRR8513910_v2\" && \\\n",
    " REF=\"fly-dm6\" && \\\n",
    " WHITELIST=\"../../reference/whitelist_10xv2.txt\" && \\\n",
    " ../scripts/kallisto_bus.sh \\\n",
    " -f ../../data/fastqs/$DS/ \\\n",
    " -o ../../data/kallisto_out/$DS \\\n",
    " -i ../../reference/$REF/kallisto.idx \\\n",
    " -g ../../reference/$REF/t2g.txt \\\n",
    " -w $WHITELIST \\\n",
    " -x 10xv2"
   ]
  },
  {
   "cell_type": "markdown",
   "metadata": {},
   "source": [
    "rat-SRR7299563_v2"
   ]
  },
  {
   "cell_type": "code",
   "execution_count": 21,
   "metadata": {},
   "outputs": [
    {
     "name": "stdout",
     "output_type": "stream",
     "text": [
      "\n",
      "[kallisto] pseudoaligning reads..\n",
      "\n",
      "[index] k-mer length: 31\n",
      "[index] number of targets: 41,078\n",
      "[index] number of k-mers: 54,327,756\n",
      "[index] number of equivalence classes: 75,245\n",
      "[quant] will process sample 1: ../../data/fastqs/rat-SRR7299563_v2/bamtofastq_S1_L001_R1_001.fastq.gz\n",
      "                               ../../data/fastqs/rat-SRR7299563_v2/bamtofastq_S1_L001_R2_001.fastq.gz\n",
      "[quant] will process sample 2: ../../data/fastqs/rat-SRR7299563_v2/bamtofastq_S1_L001_R1_002.fastq.gz\n",
      "                               ../../data/fastqs/rat-SRR7299563_v2/bamtofastq_S1_L001_R2_002.fastq.gz\n",
      "[quant] will process sample 3: ../../data/fastqs/rat-SRR7299563_v2/bamtofastq_S1_L002_R1_001.fastq.gz\n",
      "                               ../../data/fastqs/rat-SRR7299563_v2/bamtofastq_S1_L002_R2_001.fastq.gz\n",
      "[quant] will process sample 4: ../../data/fastqs/rat-SRR7299563_v2/bamtofastq_S1_L002_R1_002.fastq.gz\n",
      "                               ../../data/fastqs/rat-SRR7299563_v2/bamtofastq_S1_L002_R2_002.fastq.gz\n",
      "[quant] finding pseudoalignments for the reads ... done\n",
      "[quant] processed 112,176,350 reads, 66,687,945 reads pseudoaligned\n",
      "\n",
      "\n",
      "[bustools] correcting barcodes..\n",
      "Found 737280 barcodes in the whitelist\n",
      "Processed 66687945 bus records\n",
      "In whitelist = 64690144\n",
      "Corrected = 477618\n",
      "Uncorrected = 1520183\n",
      "\n",
      "[bustools] sorting bus file..\n",
      "Read in 65167762 BUS records\n",
      "\n",
      "[bustools] counting umis..\n",
      "Done.\n"
     ]
    }
   ],
   "source": [
    "!DS=\"rat-SRR7299563_v2\" && \\\n",
    " REF=\"rat-rnor6\" && \\\n",
    " WHITELIST=\"../../reference/whitelist_10xv2.txt\" && \\\n",
    " ../scripts/kallisto_bus.sh \\\n",
    " -f ../../data/fastqs/$DS/ \\\n",
    " -o ../../data/kallisto_out/$DS \\\n",
    " -i ../../reference/$REF/kallisto.idx \\\n",
    " -g ../../reference/$REF/t2g.txt \\\n",
    " -w $WHITELIST \\\n",
    " -x 10xv2"
   ]
  },
  {
   "cell_type": "markdown",
   "metadata": {},
   "source": [
    "worm-SRR8611943_v2"
   ]
  },
  {
   "cell_type": "code",
   "execution_count": 22,
   "metadata": {},
   "outputs": [
    {
     "name": "stdout",
     "output_type": "stream",
     "text": [
      "\n",
      "[kallisto] pseudoaligning reads..\n",
      "\n",
      "[index] k-mer length: 31\n",
      "[index] number of targets: 34,035\n",
      "[index] number of k-mers: 28,637,583\n",
      "[index] number of equivalence classes: 56,285\n",
      "[quant] will process sample 1: ../../data/fastqs/worm-SRR8611943_v2/SRR8611943_S1_L001_R1_001.fastq.gz\n",
      "                               ../../data/fastqs/worm-SRR8611943_v2/SRR8611943_S1_L001_R2_001.fastq.gz\n",
      "[quant] finding pseudoalignments for the reads ... done\n",
      "[quant] processed 21,574,502 reads, 16,746,847 reads pseudoaligned\n",
      "\n",
      "\n",
      "[bustools] correcting barcodes..\n",
      "Found 737280 barcodes in the whitelist\n",
      "Processed 16746847 bus records\n",
      "In whitelist = 16021922\n",
      "Corrected = 206410\n",
      "Uncorrected = 518515\n",
      "\n",
      "[bustools] sorting bus file..\n",
      "Read in 16228332 BUS records\n",
      "\n",
      "[bustools] counting umis..\n",
      "Done.\n"
     ]
    }
   ],
   "source": [
    "!DS=\"worm-SRR8611943_v2\" && \\\n",
    " REF=\"worm-ws260\" && \\\n",
    " WHITELIST=\"../../reference/whitelist_10xv2.txt\" && \\\n",
    " ../scripts/kallisto_bus.sh \\\n",
    " -f ../../data/fastqs/$DS/ \\\n",
    " -o ../../data/kallisto_out/$DS \\\n",
    " -i ../../reference/$REF/kallisto.idx \\\n",
    " -g ../../reference/$REF/t2g.txt \\\n",
    " -w $WHITELIST \\\n",
    " -x 10xv2"
   ]
  },
  {
   "cell_type": "markdown",
   "metadata": {},
   "source": [
    "zebrafish-SRR6956073_v2"
   ]
  },
  {
   "cell_type": "code",
   "execution_count": 23,
   "metadata": {},
   "outputs": [
    {
     "name": "stdout",
     "output_type": "stream",
     "text": [
      "\n",
      "[kallisto] pseudoaligning reads..\n",
      "\n",
      "[index] k-mer length: 31\n",
      "[index] number of targets: 57,369\n",
      "[index] number of k-mers: 68,649,884\n",
      "[index] number of equivalence classes: 152,764\n",
      "[quant] will process sample 1: ../../data/fastqs/zebrafish-SRR6956073_v2/bamtofastq_S1_L001_R1_001.fastq.gz\n",
      "                               ../../data/fastqs/zebrafish-SRR6956073_v2/bamtofastq_S1_L001_R2_001.fastq.gz\n",
      "[quant] will process sample 2: ../../data/fastqs/zebrafish-SRR6956073_v2/bamtofastq_S1_L002_R1_001.fastq.gz\n",
      "                               ../../data/fastqs/zebrafish-SRR6956073_v2/bamtofastq_S1_L002_R2_001.fastq.gz\n",
      "[quant] will process sample 3: ../../data/fastqs/zebrafish-SRR6956073_v2/bamtofastq_S1_L003_R1_001.fastq.gz\n",
      "                               ../../data/fastqs/zebrafish-SRR6956073_v2/bamtofastq_S1_L003_R2_001.fastq.gz\n",
      "[quant] will process sample 4: ../../data/fastqs/zebrafish-SRR6956073_v2/bamtofastq_S1_L004_R1_001.fastq.gz\n",
      "                               ../../data/fastqs/zebrafish-SRR6956073_v2/bamtofastq_S1_L004_R2_001.fastq.gz\n",
      "[quant] will process sample 5: ../../data/fastqs/zebrafish-SRR6956073_v2/bamtofastq_S1_L005_R1_001.fastq.gz\n",
      "                               ../../data/fastqs/zebrafish-SRR6956073_v2/bamtofastq_S1_L005_R2_001.fastq.gz\n",
      "[quant] will process sample 6: ../../data/fastqs/zebrafish-SRR6956073_v2/bamtofastq_S1_L006_R1_001.fastq.gz\n",
      "                               ../../data/fastqs/zebrafish-SRR6956073_v2/bamtofastq_S1_L006_R2_001.fastq.gz\n",
      "[quant] will process sample 7: ../../data/fastqs/zebrafish-SRR6956073_v2/bamtofastq_S1_L007_R1_001.fastq.gz\n",
      "                               ../../data/fastqs/zebrafish-SRR6956073_v2/bamtofastq_S1_L007_R2_001.fastq.gz\n",
      "[quant] will process sample 8: ../../data/fastqs/zebrafish-SRR6956073_v2/bamtofastq_S1_L008_R1_001.fastq.gz\n",
      "                               ../../data/fastqs/zebrafish-SRR6956073_v2/bamtofastq_S1_L008_R2_001.fastq.gz\n",
      "[quant] finding pseudoalignments for the reads ... done\n",
      "[quant] processed 161,274,652 reads, 111,293,410 reads pseudoaligned\n",
      "\n",
      "\n",
      "[bustools] correcting barcodes..\n",
      "Found 737280 barcodes in the whitelist\n",
      "Processed 111293410 bus records\n",
      "In whitelist = 107572180\n",
      "Corrected = 1082195\n",
      "Uncorrected = 2639035\n",
      "\n",
      "[bustools] sorting bus file..\n",
      "Read in 108654375 BUS records\n",
      "\n",
      "[bustools] counting umis..\n",
      "Done.\n"
     ]
    }
   ],
   "source": [
    "!DS=\"zebrafish-SRR6956073_v2\" && \\\n",
    " REF=\"zebrafish-dr82\" && \\\n",
    " WHITELIST=\"../../reference/whitelist_10xv2.txt\" && \\\n",
    " ../scripts/kallisto_bus.sh \\\n",
    " -f ../../data/fastqs/$DS/ \\\n",
    " -o ../../data/kallisto_out/$DS \\\n",
    " -i ../../reference/$REF/kallisto.idx \\\n",
    " -g ../../reference/$REF/t2g.txt \\\n",
    " -w $WHITELIST \\\n",
    " -x 10xv2"
   ]
  },
  {
   "cell_type": "code",
   "execution_count": null,
   "metadata": {},
   "outputs": [],
   "source": []
  },
  {
   "cell_type": "code",
   "execution_count": null,
   "metadata": {},
   "outputs": [],
   "source": []
  },
  {
   "cell_type": "code",
   "execution_count": null,
   "metadata": {},
   "outputs": [],
   "source": []
  },
  {
   "cell_type": "code",
   "execution_count": null,
   "metadata": {},
   "outputs": [],
   "source": []
  },
  {
   "cell_type": "code",
   "execution_count": null,
   "metadata": {},
   "outputs": [],
   "source": []
  },
  {
   "cell_type": "code",
   "execution_count": null,
   "metadata": {},
   "outputs": [],
   "source": []
  },
  {
   "cell_type": "code",
   "execution_count": null,
   "metadata": {},
   "outputs": [],
   "source": []
  },
  {
   "cell_type": "code",
   "execution_count": null,
   "metadata": {},
   "outputs": [],
   "source": []
  },
  {
   "cell_type": "code",
   "execution_count": null,
   "metadata": {},
   "outputs": [],
   "source": []
  },
  {
   "cell_type": "code",
   "execution_count": null,
   "metadata": {},
   "outputs": [],
   "source": []
  }
 ],
 "metadata": {
  "kernelspec": {
   "display_name": "Python 3",
   "language": "python",
   "name": "python3"
  },
  "language_info": {
   "codemirror_mode": {
    "name": "ipython",
    "version": 3
   },
   "file_extension": ".py",
   "mimetype": "text/x-python",
   "name": "python",
   "nbconvert_exporter": "python",
   "pygments_lexer": "ipython3",
   "version": "3.7.4"
  }
 },
 "nbformat": 4,
 "nbformat_minor": 4
}
