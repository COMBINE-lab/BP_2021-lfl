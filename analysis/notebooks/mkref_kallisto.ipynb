{
 "cells": [
  {
   "cell_type": "code",
   "execution_count": 1,
   "metadata": {},
   "outputs": [
    {
     "name": "stdout",
     "output_type": "stream",
     "text": [
      "Thu Jan 14 12:34:31 PST 2021\n"
     ]
    }
   ],
   "source": [
    "!date"
   ]
  },
  {
   "cell_type": "markdown",
   "metadata": {},
   "source": [
    "## Human GRCh38"
   ]
  },
  {
   "cell_type": "code",
   "execution_count": 12,
   "metadata": {},
   "outputs": [
    {
     "name": "stderr",
     "output_type": "stream",
     "text": [
      "\n",
      "[build] loading fasta file ../../reference/human-grch38/transcriptome.fa.gz\n",
      "[build] k-mer length: 31\n",
      "[build] warning: clipped off poly-A tail (longer than 10)\n",
      "        from 1426 target sequences\n",
      "[build] counting k-mers ... done.\n",
      "[build] building target de Bruijn graph ...  done \n",
      "[build] creating equivalence classes ...  done\n",
      "[build] target de Bruijn graph has 1006136 contigs and contains 113209587 k-mers \n",
      "\n",
      "\n",
      "real\t4m48.276s\n",
      "user\t4m44.289s\n",
      "sys\t0m3.948s\n"
     ]
    }
   ],
   "source": [
    "%%bash\n",
    "time kallisto index -i ../../reference/human-grch38/kallisto.idx \\\n",
    "                  ../../reference/human-grch38/transcriptome.fa"
   ]
  },
  {
   "cell_type": "markdown",
   "metadata": {},
   "source": [
    "## Human-mouse hg19-mm10"
   ]
  },
  {
   "cell_type": "code",
   "execution_count": 11,
   "metadata": {},
   "outputs": [
    {
     "name": "stderr",
     "output_type": "stream",
     "text": [
      "\n",
      "[build] loading fasta file ../../reference/human_mouse-hg19_mm10/transcriptome.fa.gz\n",
      "[build] k-mer length: 31\n",
      "[build] warning: clipped off poly-A tail (longer than 10)\n",
      "        from 2163 target sequences\n",
      "[build] warning: replaced 4 non-ACGUT characters in the input sequence\n",
      "        with pseudorandom nucleotides\n",
      "[build] counting k-mers ... done.\n",
      "[build] building target de Bruijn graph ...  done \n",
      "[build] creating equivalence classes ...  done\n",
      "[build] target de Bruijn graph has 2318651 contigs and contains 232458054 k-mers \n",
      "\n",
      "\n",
      "real\t10m40.592s\n",
      "user\t10m31.804s\n",
      "sys\t0m8.521s\n"
     ]
    }
   ],
   "source": [
    "%%bash\n",
    "time kallisto index -i ../../reference/human_mouse-hg19_mm10/kallisto.idx \\\n",
    "                  ../../reference/human_mouse-hg19_mm10/transcriptome.fa"
   ]
  },
  {
   "cell_type": "markdown",
   "metadata": {},
   "source": [
    "## Mouse mm10"
   ]
  },
  {
   "cell_type": "code",
   "execution_count": 10,
   "metadata": {},
   "outputs": [
    {
     "name": "stderr",
     "output_type": "stream",
     "text": [
      "\n",
      "[build] loading fasta file ../../reference/mouse-mm10/transcriptome.fa.gz\n",
      "[build] k-mer length: 31\n",
      "[build] warning: clipped off poly-A tail (longer than 10)\n",
      "        from 619 target sequences\n",
      "[build] warning: replaced 3 non-ACGUT characters in the input sequence\n",
      "        with pseudorandom nucleotides\n",
      "[build] counting k-mers ... done.\n",
      "[build] building target de Bruijn graph ...  done \n",
      "[build] creating equivalence classes ...  done\n",
      "[build] target de Bruijn graph has 592950 contigs and contains 102195391 k-mers \n",
      "\n",
      "\n",
      "real\t3m51.842s\n",
      "user\t3m48.377s\n",
      "sys\t0m3.464s\n"
     ]
    }
   ],
   "source": [
    "%%bash\n",
    "time kallisto index -i ../../reference/mouse-mm10/kallisto.idx \\\n",
    "                  ../../reference/mouse-mm10/transcriptome.fa"
   ]
  },
  {
   "cell_type": "markdown",
   "metadata": {},
   "source": [
    "## Rat rnor6"
   ]
  },
  {
   "cell_type": "code",
   "execution_count": 9,
   "metadata": {},
   "outputs": [
    {
     "name": "stderr",
     "output_type": "stream",
     "text": [
      "\n",
      "[build] loading fasta file ../../reference/rat-rnor6/transcriptome.fa.gz\n",
      "[build] k-mer length: 31\n",
      "[build] warning: replaced 4475851 non-ACGUT characters in the input sequence\n",
      "        with pseudorandom nucleotides\n",
      "[build] counting k-mers ... done.\n",
      "[build] building target de Bruijn graph ...  done \n",
      "[build] creating equivalence classes ...  done\n",
      "[build] target de Bruijn graph has 163679 contigs and contains 54327756 k-mers \n",
      "\n",
      "\n",
      "real\t1m59.846s\n",
      "user\t1m58.172s\n",
      "sys\t0m1.677s\n"
     ]
    }
   ],
   "source": [
    "%%bash\n",
    "time kallisto index -i ../../reference/rat-rnor6/kallisto.idx \\\n",
    "                  ../../reference/rat-rnor6/transcriptome.fa"
   ]
  },
  {
   "cell_type": "markdown",
   "metadata": {},
   "source": [
    "## Zebrafish dr82"
   ]
  },
  {
   "cell_type": "code",
   "execution_count": 8,
   "metadata": {},
   "outputs": [
    {
     "name": "stderr",
     "output_type": "stream",
     "text": [
      "\n",
      "[build] loading fasta file ../../reference/zebrafish-dr82/transcriptome.fa.gz\n",
      "[build] k-mer length: 31\n",
      "[build] warning: clipped off poly-A tail (longer than 10)\n",
      "        from 2 target sequences\n",
      "[build] warning: replaced 9656118 non-ACGUT characters in the input sequence\n",
      "        with pseudorandom nucleotides\n",
      "[build] counting k-mers ... done.\n",
      "[build] building target de Bruijn graph ...  done \n",
      "[build] creating equivalence classes ...  done\n",
      "[build] target de Bruijn graph has 318820 contigs and contains 68649884 k-mers \n",
      "\n",
      "\n",
      "real\t2m27.919s\n",
      "user\t2m25.147s\n",
      "sys\t0m2.735s\n"
     ]
    }
   ],
   "source": [
    "%%bash\n",
    "time kallisto index -i ../../reference/zebrafish-dr82/kallisto.idx \\\n",
    "                  ../../reference/zebrafish-dr82/transcriptome.fa"
   ]
  },
  {
   "cell_type": "markdown",
   "metadata": {},
   "source": [
    "## Arabidopsis tair10"
   ]
  },
  {
   "cell_type": "code",
   "execution_count": 7,
   "metadata": {},
   "outputs": [
    {
     "name": "stderr",
     "output_type": "stream",
     "text": [
      "\n",
      "[build] loading fasta file ../../reference/arabidopsis-tair10/transcriptome.fa.gz\n",
      "[build] k-mer length: 31\n",
      "[build] warning: clipped off poly-A tail (longer than 10)\n",
      "        from 24 target sequences\n",
      "[build] warning: replaced 697 non-ACGUT characters in the input sequence\n",
      "        with pseudorandom nucleotides\n",
      "[build] counting k-mers ... done.\n",
      "[build] building target de Bruijn graph ...  done \n",
      "[build] creating equivalence classes ...  done\n",
      "[build] target de Bruijn graph has 290647 contigs and contains 47760979 k-mers \n",
      "\n",
      "\n",
      "real\t1m38.790s\n",
      "user\t1m36.888s\n",
      "sys\t0m1.711s\n"
     ]
    }
   ],
   "source": [
    "%%bash\n",
    "time kallisto index -i ../../reference/arabidopsis-tair10/kallisto.idx \\\n",
    "                  ../../reference/arabidopsis-tair10/transcriptome.fa"
   ]
  },
  {
   "cell_type": "markdown",
   "metadata": {},
   "source": [
    "## Fly dm6"
   ]
  },
  {
   "cell_type": "code",
   "execution_count": 6,
   "metadata": {},
   "outputs": [
    {
     "name": "stderr",
     "output_type": "stream",
     "text": [
      "\n",
      "[build] loading fasta file ../../reference/fly-dm6/transcriptome.fa.gz\n",
      "[build] k-mer length: 31\n",
      "[build] warning: clipped off poly-A tail (longer than 10)\n",
      "        from 9 target sequences\n",
      "[build] counting k-mers ... done.\n",
      "[build] building target de Bruijn graph ...  done \n",
      "[build] creating equivalence classes ...  done\n",
      "[build] target de Bruijn graph has 80001 contigs and contains 35116434 k-mers \n",
      "\n",
      "\n",
      "real\t1m16.086s\n",
      "user\t1m14.699s\n",
      "sys\t0m1.381s\n"
     ]
    }
   ],
   "source": [
    "%%bash\n",
    "time kallisto index -i ../../reference/fly-dm6/kallisto.idx \\\n",
    "                  ../../reference/fly-dm6/transcriptome.fa"
   ]
  },
  {
   "cell_type": "markdown",
   "metadata": {},
   "source": [
    "## Worm ws260"
   ]
  },
  {
   "cell_type": "code",
   "execution_count": 5,
   "metadata": {},
   "outputs": [
    {
     "name": "stderr",
     "output_type": "stream",
     "text": [
      "\n",
      "[build] loading fasta file ../../reference/worm-ws260/transcriptome.fa.gz\n",
      "[build] k-mer length: 31\n",
      "[build] warning: clipped off poly-A tail (longer than 10)\n",
      "        from 20 target sequences\n",
      "[build] counting k-mers ... done.\n",
      "[build] building target de Bruijn graph ...  done \n",
      "[build] creating equivalence classes ...  done\n",
      "[build] target de Bruijn graph has 78989 contigs and contains 28637583 k-mers \n",
      "\n",
      "\n",
      "real\t1m9.666s\n",
      "user\t1m8.788s\n",
      "sys\t0m0.880s\n"
     ]
    }
   ],
   "source": [
    "%%bash\n",
    "time kallisto index -i ../../reference/worm-ws260/kallisto.idx \\\n",
    "                  ../../reference/worm-ws260/transcriptome.fa"
   ]
  },
  {
   "cell_type": "code",
   "execution_count": null,
   "metadata": {},
   "outputs": [],
   "source": []
  }
 ],
 "metadata": {
  "kernelspec": {
   "display_name": "Python 3",
   "language": "python",
   "name": "python3"
  },
  "language_info": {
   "codemirror_mode": {
    "name": "ipython",
    "version": 3
   },
   "file_extension": ".py",
   "mimetype": "text/x-python",
   "name": "python",
   "nbconvert_exporter": "python",
   "pygments_lexer": "ipython3",
   "version": "3.7.4"
  }
 },
 "nbformat": 4,
 "nbformat_minor": 4
}
