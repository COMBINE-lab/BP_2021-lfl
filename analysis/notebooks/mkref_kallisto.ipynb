{
 "cells": [
  {
   "cell_type": "code",
   "execution_count": 1,
   "metadata": {},
   "outputs": [
    {
     "name": "stdout",
     "output_type": "stream",
     "text": [
      "Thu Jan 14 12:34:31 PST 2021\n"
     ]
    }
   ],
   "source": [
    "!date"
   ]
  },
  {
   "cell_type": "markdown",
   "metadata": {},
   "source": [
    "### For each dataset the t2g files were made using the following command and the gtf files.\n",
    "\n",
    "```\n",
    "$ cat genes.gtf | awk 'NR>5'| awk '$3==\"transcript\"' | cut -d$'\\t' -f 9 | tr -d \";\" | tr -d '\\\"' | awk '{print $6,$2,$10}' OFS='\\t'> t2g.txt\n",
    "```"
   ]
  },
  {
   "cell_type": "markdown",
   "metadata": {},
   "source": [
    "## Human GRCh38"
   ]
  },
  {
   "cell_type": "code",
   "execution_count": 1,
   "metadata": {},
   "outputs": [
    {
     "name": "stdout",
     "output_type": "stream",
     "text": [
      "\n",
      "[build] loading fasta file ../../reference/human-grch38/transcriptome.fa\n",
      "[build] k-mer length: 31\n",
      "[build] warning: clipped off poly-A tail (longer than 10)\n",
      "        from 1426 target sequences\n",
      "[build] counting k-mers ... done.\n",
      "[build] building target de Bruijn graph ...  done \n",
      "[build] creating equivalence classes ...  done\n",
      "[build] target de Bruijn graph has 1006136 contigs and contains 113209587 k-mers \n",
      "\n"
     ]
    }
   ],
   "source": [
    "!REF=\"../../reference/human-grch38\" && \\\n",
    "/usr/bin/time -v --output $REF/index.log kallisto index -i $REF/kallisto.idx $REF/transcriptome.fa"
   ]
  },
  {
   "cell_type": "markdown",
   "metadata": {},
   "source": [
    "## Human-mouse hg19-mm10"
   ]
  },
  {
   "cell_type": "code",
   "execution_count": 2,
   "metadata": {},
   "outputs": [
    {
     "name": "stdout",
     "output_type": "stream",
     "text": [
      "\n",
      "[build] loading fasta file ../../reference/human_mouse-hg19_mm10/transcriptome.fa\n",
      "[build] k-mer length: 31\n",
      "[build] warning: clipped off poly-A tail (longer than 10)\n",
      "        from 2163 target sequences\n",
      "[build] warning: replaced 4 non-ACGUT characters in the input sequence\n",
      "        with pseudorandom nucleotides\n",
      "[build] counting k-mers ... done.\n",
      "[build] building target de Bruijn graph ...  done \n",
      "[build] creating equivalence classes ...  done\n",
      "[build] target de Bruijn graph has 2318651 contigs and contains 232458054 k-mers \n",
      "\n"
     ]
    }
   ],
   "source": [
    "!REF=\"../../reference/human_mouse-hg19_mm10\" && \\\n",
    "/usr/bin/time -v --output $REF/index.log kallisto index -i $REF/kallisto.idx $REF/transcriptome.fa"
   ]
  },
  {
   "cell_type": "markdown",
   "metadata": {},
   "source": [
    "## Mouse mm10"
   ]
  },
  {
   "cell_type": "code",
   "execution_count": 3,
   "metadata": {},
   "outputs": [
    {
     "name": "stdout",
     "output_type": "stream",
     "text": [
      "\n",
      "[build] loading fasta file ../../reference/mouse-mm10/transcriptome.fa\n",
      "[build] k-mer length: 31\n",
      "[build] warning: clipped off poly-A tail (longer than 10)\n",
      "        from 619 target sequences\n",
      "[build] warning: replaced 3 non-ACGUT characters in the input sequence\n",
      "        with pseudorandom nucleotides\n",
      "[build] counting k-mers ... done.\n",
      "[build] building target de Bruijn graph ...  done \n",
      "[build] creating equivalence classes ...  done\n",
      "[build] target de Bruijn graph has 592950 contigs and contains 102195391 k-mers \n",
      "\n"
     ]
    }
   ],
   "source": [
    "!REF=\"../../reference/mouse-mm10\" && \\\n",
    "/usr/bin/time -v --output $REF/index.log kallisto index -i $REF/kallisto.idx $REF/transcriptome.fa"
   ]
  },
  {
   "cell_type": "markdown",
   "metadata": {},
   "source": [
    "## Rat rnor6"
   ]
  },
  {
   "cell_type": "code",
   "execution_count": 4,
   "metadata": {},
   "outputs": [
    {
     "name": "stdout",
     "output_type": "stream",
     "text": [
      "\n",
      "[build] loading fasta file ../../reference/rat-rnor6/transcriptome.fa\n",
      "[build] k-mer length: 31\n",
      "[build] warning: replaced 4475851 non-ACGUT characters in the input sequence\n",
      "        with pseudorandom nucleotides\n",
      "[build] counting k-mers ... done.\n",
      "[build] building target de Bruijn graph ...  done \n",
      "[build] creating equivalence classes ...  done\n",
      "[build] target de Bruijn graph has 163679 contigs and contains 54327756 k-mers \n",
      "\n"
     ]
    }
   ],
   "source": [
    "!REF=\"../../reference/rat-rnor6\" && \\\n",
    "/usr/bin/time -v --output $REF/index.log kallisto index -i $REF/kallisto.idx $REF/transcriptome.fa"
   ]
  },
  {
   "cell_type": "markdown",
   "metadata": {},
   "source": [
    "## Zebrafish dr82"
   ]
  },
  {
   "cell_type": "code",
   "execution_count": 5,
   "metadata": {},
   "outputs": [
    {
     "name": "stdout",
     "output_type": "stream",
     "text": [
      "\n",
      "[build] loading fasta file ../../reference/zebrafish-dr82/transcriptome.fa\n",
      "[build] k-mer length: 31\n",
      "[build] warning: clipped off poly-A tail (longer than 10)\n",
      "        from 2 target sequences\n",
      "[build] warning: replaced 9656118 non-ACGUT characters in the input sequence\n",
      "        with pseudorandom nucleotides\n",
      "[build] counting k-mers ... done.\n",
      "[build] building target de Bruijn graph ...  done \n",
      "[build] creating equivalence classes ...  done\n",
      "[build] target de Bruijn graph has 318820 contigs and contains 68649884 k-mers \n",
      "\n"
     ]
    }
   ],
   "source": [
    "!REF=\"../../reference/zebrafish-dr82\" && \\\n",
    "/usr/bin/time -v --output $REF/index.log kallisto index -i $REF/kallisto.idx $REF/transcriptome.fa"
   ]
  },
  {
   "cell_type": "markdown",
   "metadata": {},
   "source": [
    "## Arabidopsis tair10"
   ]
  },
  {
   "cell_type": "code",
   "execution_count": 6,
   "metadata": {},
   "outputs": [
    {
     "name": "stdout",
     "output_type": "stream",
     "text": [
      "\n",
      "[build] loading fasta file ../../reference/arabidopsis-tair10/transcriptome.fa\n",
      "[build] k-mer length: 31\n",
      "[build] warning: clipped off poly-A tail (longer than 10)\n",
      "        from 24 target sequences\n",
      "[build] warning: replaced 697 non-ACGUT characters in the input sequence\n",
      "        with pseudorandom nucleotides\n",
      "[build] counting k-mers ... done.\n",
      "[build] building target de Bruijn graph ...  done \n",
      "[build] creating equivalence classes ...  done\n",
      "[build] target de Bruijn graph has 290647 contigs and contains 47760979 k-mers \n",
      "\n"
     ]
    }
   ],
   "source": [
    "!REF=\"../../reference/arabidopsis-tair10\" && \\\n",
    "/usr/bin/time -v --output $REF/index.log kallisto index -i $REF/kallisto.idx $REF/transcriptome.fa"
   ]
  },
  {
   "cell_type": "markdown",
   "metadata": {},
   "source": [
    "## Fly dm6"
   ]
  },
  {
   "cell_type": "code",
   "execution_count": 7,
   "metadata": {},
   "outputs": [
    {
     "name": "stdout",
     "output_type": "stream",
     "text": [
      "\n",
      "[build] loading fasta file ../../reference/fly-dm6/transcriptome.fa\n",
      "[build] k-mer length: 31\n",
      "[build] warning: clipped off poly-A tail (longer than 10)\n",
      "        from 9 target sequences\n",
      "[build] counting k-mers ... done.\n",
      "[build] building target de Bruijn graph ...  done \n",
      "[build] creating equivalence classes ...  done\n",
      "[build] target de Bruijn graph has 80001 contigs and contains 35116434 k-mers \n",
      "\n"
     ]
    }
   ],
   "source": [
    "!REF=\"../../reference/fly-dm6\" && \\\n",
    "/usr/bin/time -v --output $REF/index.log kallisto index -i $REF/kallisto.idx $REF/transcriptome.fa"
   ]
  },
  {
   "cell_type": "markdown",
   "metadata": {},
   "source": [
    "## Worm ws260"
   ]
  },
  {
   "cell_type": "code",
   "execution_count": 8,
   "metadata": {},
   "outputs": [
    {
     "name": "stdout",
     "output_type": "stream",
     "text": [
      "\n",
      "[build] loading fasta file ../../reference/worm-ws260/transcriptome.fa\n",
      "[build] k-mer length: 31\n",
      "[build] warning: clipped off poly-A tail (longer than 10)\n",
      "        from 20 target sequences\n",
      "[build] counting k-mers ... done.\n",
      "[build] building target de Bruijn graph ...  done \n",
      "[build] creating equivalence classes ...  done\n",
      "[build] target de Bruijn graph has 78989 contigs and contains 28637583 k-mers \n",
      "\n"
     ]
    }
   ],
   "source": [
    "!REF=\"../../reference/worm-ws260\" && \\\n",
    "/usr/bin/time -v --output $REF/index.log kallisto index -i $REF/kallisto.idx $REF/transcriptome.fa"
   ]
  },
  {
   "cell_type": "code",
   "execution_count": null,
   "metadata": {},
   "outputs": [],
   "source": []
  }
 ],
 "metadata": {
  "kernelspec": {
   "display_name": "Python 3",
   "language": "python",
   "name": "python3"
  },
  "language_info": {
   "codemirror_mode": {
    "name": "ipython",
    "version": 3
   },
   "file_extension": ".py",
   "mimetype": "text/x-python",
   "name": "python",
   "nbconvert_exporter": "python",
   "pygments_lexer": "ipython3",
   "version": "3.7.9"
  }
 },
 "nbformat": 4,
 "nbformat_minor": 4
}
