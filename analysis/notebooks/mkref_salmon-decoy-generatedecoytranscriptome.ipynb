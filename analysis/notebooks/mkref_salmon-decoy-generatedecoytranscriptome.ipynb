{
 "cells": [
  {
   "cell_type": "code",
   "execution_count": 1,
   "metadata": {},
   "outputs": [
    {
     "name": "stdout",
     "output_type": "stream",
     "text": [
      "Thu Jan 14 14:19:40 PST 2021\n"
     ]
    }
   ],
   "source": [
    "!date"
   ]
  },
  {
   "cell_type": "markdown",
   "metadata": {},
   "source": [
    "# Salmon index"
   ]
  },
  {
   "cell_type": "markdown",
   "metadata": {},
   "source": [
    "## Generate decoys"
   ]
  },
  {
   "cell_type": "markdown",
   "metadata": {},
   "source": [
    "### Human GRCh38"
   ]
  },
  {
   "cell_type": "code",
   "execution_count": null,
   "metadata": {},
   "outputs": [],
   "source": [
    "%%bash\n",
    "time ../scripts/generateDecoyTranscriptome.sh \\\n",
    "-a ../../reference/human-grch38/genes.gtf \\\n",
    "-g ../../reference/human-grch38/genome.fa \\\n",
    "-t ../../reference/human-grch38/transcriptome.fa \\\n",
    "-o ../../reference/human-grch38/decoy"
   ]
  },
  {
   "cell_type": "markdown",
   "metadata": {},
   "source": [
    "### Human-mouse hg19-mm10"
   ]
  },
  {
   "cell_type": "code",
   "execution_count": null,
   "metadata": {},
   "outputs": [],
   "source": [
    "%%bash\n",
    "time ../scripts/generateDecoyTranscriptome.sh \\\n",
    "-a ../../reference/human_mouse-hg19_mm10/genes.gtf \\\n",
    "-g ../../reference/human_mouse-hg19_mm10/genome.fa \\\n",
    "-t ../../reference/human_mouse-hg19_mm10/transcriptome.fa \\\n",
    "-o ../../reference/human_mouse-hg19_mm10/decoy"
   ]
  },
  {
   "cell_type": "markdown",
   "metadata": {},
   "source": [
    "### Mouse mm10"
   ]
  },
  {
   "cell_type": "markdown",
   "metadata": {},
   "source": [
    "partial decoy"
   ]
  },
  {
   "cell_type": "code",
   "execution_count": null,
   "metadata": {},
   "outputs": [],
   "source": [
    "%%bash\n",
    "time ../scripts/generateDecoyTranscriptome.sh \\\n",
    "-a ../../reference/mouse-mm10/genes.gtf \\\n",
    "-g ../../reference/mouse-mm10/genome.fa \\\n",
    "-t ../../reference/mouse-mm10/transcriptome.fa \\\n",
    "-o ../../reference/mouse-mm10/partial-decoy\n",
    "\n",
    "# cat ../../reference/mouse-mm10/decoy/gentrome.fa \\\n",
    "# | awk '/^>/ {print $0}' \\\n",
    "# | tr -d \">\" \\\n",
    "# | tr -d \"gene=\" \\\n",
    "# | cut -d\" \" -f1,2 \\\n",
    "# | tr \" \" \"\\t\" \\\n",
    "# > ../../reference/mouse-mm10/decoy/decoy_t2g.txt\n",
    "# cat ../t2g.txt <(paste -d$'\\t' decoys.txt decoys.txt) | cut -d$'\\t' -f1,2 > decoy_t2g.txt"
   ]
  },
  {
   "cell_type": "markdown",
   "metadata": {},
   "source": [
    "full decoy"
   ]
  },
  {
   "cell_type": "code",
   "execution_count": 3,
   "metadata": {},
   "outputs": [],
   "source": [
    "%%bash\n",
    "mkdir -p ../../reference/mouse-mm10/full-decoy\n",
    "grep \"^>\" <(cat ../../reference/mouse-mm10/genome.fa) | cut -d \" \" -f 1 > ../../reference/mouse-mm10/full-decoy/decoys.txt\n",
    "sed -i.bak -e 's/>//g' ../../reference/mouse-mm10/full-decoy/decoys.txt\n",
    "cat ../../reference/mouse-mm10/transcriptome.fa ../../reference/mouse-mm10/genome.fa > ../../reference/mouse-mm10/full-decoy/gentrome.fa"
   ]
  },
  {
   "cell_type": "markdown",
   "metadata": {},
   "source": [
    "### Rat rnor6"
   ]
  },
  {
   "cell_type": "code",
   "execution_count": 10,
   "metadata": {},
   "outputs": [
    {
     "name": "stdout",
     "output_type": "stream",
     "text": [
      "****************\n",
      "*** getDecoy ***\n",
      "****************\n",
      "-a <Annotation GTF file> = /home/sina/projects/fry/reference/rat-rnor6/genes.gtf\n",
      "-g <Genome fasta> = /home/sina/projects/fry/reference/rat-rnor6/genome.fa\n",
      "-t <Transcriptome fasta> = /home/sina/projects/fry/reference/rat-rnor6/transcriptome.fa\n",
      "-o <Output files Path> = ../../reference/rat-rnor6/decoy\n",
      "[1/10] Extracting exonic features from the gtf\n",
      "[2/10] Masking the genome fasta\n",
      "[3/10] Aligning transcriptome to genome\n",
      ">>>>>>>>>>>>>>>>>>\n",
      "Reference = [reference.masked.genome.fa]\n",
      "Query = [/home/sina/projects/fry/reference/rat-rnor6/transcriptome.fa]\n",
      "Kmer size = 16\n",
      "Window size = 5\n",
      "Segment length = 500 (read split allowed)\n",
      "Alphabet = DNA\n",
      "Percentage identity threshold = 80%\n",
      "Mapping output file = mashmap.out\n",
      "Filter mode = 1 (1 = map, 2 = one-to-one, 3 = none)\n",
      "Execution threads  = 1\n",
      ">>>>>>>>>>>>>>>>>>\n",
      "INFO, skch::Sketch::build, minimizers picked from reference = 500166072\n",
      "INFO, skch::Sketch::index, unique minimizers = 240237009\n",
      "INFO, skch::Sketch::computeFreqHist, Frequency histogram of minimizers = (1, 139404067) ... (1594616, 1)\n",
      "INFO, skch::Sketch::computeFreqHist, With threshold 0.001%, ignore minimizers occurring >= 887 times during lookup.\n",
      "INFO, skch::main, Time spent computing the reference index: 221.503 sec\n",
      "INFO, skch::Map::mapQuery, [count of mapped reads, reads qualified for mapping, total input reads] = [30315, 30549, 41078]\n",
      "INFO, skch::main, Time spent mapping the query : 733.206 sec\n",
      "INFO, skch::main, mapping results saved in : mashmap.out\n",
      "[4/10] Extracting intervals from mashmap alignments\n",
      "[5/10] Merging the intervals\n",
      "[6/10] Extracting sequences from the genome\n",
      "[7/10] Concatenating to get decoy sequences\n",
      "[8/10] Making gentrome\n",
      "[9/10] Extracting decoy sequence ids\n",
      "[10/10] Removing temporary files\n"
     ]
    },
    {
     "name": "stderr",
     "output_type": "stream",
     "text": [
      "index file reference.masked.genome.fa.fai not found, generating...\n",
      "\n",
      "**********************************************\n",
      "*** DONE Processing ...\n",
      "*** You can use files `$outfolder/gentrome.fa` \n",
      "*** and $outfolder/decoys.txt` with \n",
      "*** `salmon index`\n",
      "**********************************************\n",
      "\n",
      "\n",
      "real\t19m29.656s\n",
      "user\t18m59.897s\n",
      "sys\t1m9.333s\n"
     ]
    }
   ],
   "source": [
    "%%bash\n",
    "time ../scripts/generateDecoyTranscriptome.sh \\\n",
    "-a ../../reference/rat-rnor6/genes.gtf \\\n",
    "-g ../../reference/rat-rnor6/genome.fa \\\n",
    "-t ../../reference/rat-rnor6/transcriptome.fa \\\n",
    "-o ../../reference/rat-rnor6/decoy"
   ]
  },
  {
   "cell_type": "markdown",
   "metadata": {},
   "source": [
    "### Zebrafish dr82"
   ]
  },
  {
   "cell_type": "code",
   "execution_count": 9,
   "metadata": {},
   "outputs": [
    {
     "name": "stdout",
     "output_type": "stream",
     "text": [
      "****************\n",
      "*** getDecoy ***\n",
      "****************\n",
      "-a <Annotation GTF file> = /home/sina/projects/fry/reference/zebrafish-dr82/genes.gtf\n",
      "-g <Genome fasta> = /home/sina/projects/fry/reference/zebrafish-dr82/genome.fa\n",
      "-t <Transcriptome fasta> = /home/sina/projects/fry/reference/zebrafish-dr82/transcriptome.fa\n",
      "-o <Output files Path> = ../../reference/zebrafish-dr82/decoy\n",
      "[1/10] Extracting exonic features from the gtf\n",
      "[2/10] Masking the genome fasta\n",
      "[3/10] Aligning transcriptome to genome\n",
      ">>>>>>>>>>>>>>>>>>\n",
      "Reference = [reference.masked.genome.fa]\n",
      "Query = [/home/sina/projects/fry/reference/zebrafish-dr82/transcriptome.fa]\n",
      "Kmer size = 16\n",
      "Window size = 5\n",
      "Segment length = 500 (read split allowed)\n",
      "Alphabet = DNA\n",
      "Percentage identity threshold = 80%\n",
      "Mapping output file = mashmap.out\n",
      "Filter mode = 1 (1 = map, 2 = one-to-one, 3 = none)\n",
      "Execution threads  = 1\n",
      ">>>>>>>>>>>>>>>>>>\n",
      "INFO, skch::Sketch::build, minimizers picked from reference = 197363102\n",
      "INFO, skch::Sketch::index, unique minimizers = 110772614\n",
      "INFO, skch::Sketch::computeFreqHist, Frequency histogram of minimizers = (1, 80719903) ... (890954, 1)\n",
      "INFO, skch::Sketch::computeFreqHist, With threshold 0.001%, ignore minimizers occurring >= 1139 times during lookup.\n",
      "INFO, skch::main, Time spent computing the reference index: 87.125 sec\n",
      "INFO, skch::Map::mapQuery, [count of mapped reads, reads qualified for mapping, total input reads] = [48624, 50212, 57369]\n",
      "INFO, skch::main, Time spent mapping the query : 1397.86 sec\n",
      "INFO, skch::main, mapping results saved in : mashmap.out\n",
      "[4/10] Extracting intervals from mashmap alignments\n",
      "[5/10] Merging the intervals\n",
      "[6/10] Extracting sequences from the genome\n",
      "[7/10] Concatenating to get decoy sequences\n",
      "[8/10] Making gentrome\n",
      "[9/10] Extracting decoy sequence ids\n",
      "[10/10] Removing temporary files\n"
     ]
    },
    {
     "name": "stderr",
     "output_type": "stream",
     "text": [
      "index file reference.masked.genome.fa.fai not found, generating...\n",
      "\n",
      "**********************************************\n",
      "*** DONE Processing ...\n",
      "*** You can use files `$outfolder/gentrome.fa` \n",
      "*** and $outfolder/decoys.txt` with \n",
      "*** `salmon index`\n",
      "**********************************************\n",
      "\n",
      "\n",
      "real\t26m15.929s\n",
      "user\t26m12.823s\n",
      "sys\t0m33.831s\n"
     ]
    }
   ],
   "source": [
    "%%bash\n",
    "time ../scripts/generateDecoyTranscriptome.sh \\\n",
    "-a ../../reference/zebrafish-dr82/genes.gtf \\\n",
    "-g ../../reference/zebrafish-dr82/genome.fa \\\n",
    "-t ../../reference/zebrafish-dr82/transcriptome.fa \\\n",
    "-o ../../reference/zebrafish-dr82/decoy"
   ]
  },
  {
   "cell_type": "markdown",
   "metadata": {},
   "source": [
    "### Arabidopsis tair10"
   ]
  },
  {
   "cell_type": "code",
   "execution_count": 8,
   "metadata": {},
   "outputs": [
    {
     "name": "stdout",
     "output_type": "stream",
     "text": [
      "****************\n",
      "*** getDecoy ***\n",
      "****************\n",
      "-a <Annotation GTF file> = /home/sina/projects/fry/reference/arabidopsis-tair10/genes.gtf\n",
      "-g <Genome fasta> = /home/sina/projects/fry/reference/arabidopsis-tair10/genome.fa\n",
      "-t <Transcriptome fasta> = /home/sina/projects/fry/reference/arabidopsis-tair10/transcriptome.fa\n",
      "-o <Output files Path> = ../../reference/arabidopsis-tair10/decoy\n",
      "[1/10] Extracting exonic features from the gtf\n",
      "[2/10] Masking the genome fasta\n",
      "[3/10] Aligning transcriptome to genome\n",
      ">>>>>>>>>>>>>>>>>>\n",
      "Reference = [reference.masked.genome.fa]\n",
      "Query = [/home/sina/projects/fry/reference/arabidopsis-tair10/transcriptome.fa]\n",
      "Kmer size = 16\n",
      "Window size = 5\n",
      "Segment length = 500 (read split allowed)\n",
      "Alphabet = DNA\n",
      "Percentage identity threshold = 80%\n",
      "Mapping output file = mashmap.out\n",
      "Filter mode = 1 (1 = map, 2 = one-to-one, 3 = none)\n",
      "Execution threads  = 1\n",
      ">>>>>>>>>>>>>>>>>>\n",
      "INFO, skch::Sketch::build, minimizers picked from reference = 23599527\n",
      "INFO, skch::Sketch::index, unique minimizers = 17976724\n",
      "INFO, skch::Sketch::computeFreqHist, Frequency histogram of minimizers = (1, 15740347) ... (82163, 1)\n",
      "INFO, skch::Sketch::computeFreqHist, With threshold 0.001%, ignore minimizers occurring >= 566 times during lookup.\n",
      "INFO, skch::main, Time spent computing the reference index: 10.9282 sec\n",
      "INFO, skch::Map::mapQuery, [count of mapped reads, reads qualified for mapping, total input reads] = [28684, 37026, 41671]\n",
      "INFO, skch::main, Time spent mapping the query : 104.457 sec\n",
      "INFO, skch::main, mapping results saved in : mashmap.out\n",
      "[4/10] Extracting intervals from mashmap alignments\n",
      "[5/10] Merging the intervals\n",
      "[6/10] Extracting sequences from the genome\n",
      "[7/10] Concatenating to get decoy sequences\n",
      "[8/10] Making gentrome\n",
      "[9/10] Extracting decoy sequence ids\n",
      "[10/10] Removing temporary files\n"
     ]
    },
    {
     "name": "stderr",
     "output_type": "stream",
     "text": [
      "index file reference.masked.genome.fa.fai not found, generating...\n",
      "\n",
      "**********************************************\n",
      "*** DONE Processing ...\n",
      "*** You can use files `$outfolder/gentrome.fa` \n",
      "*** and $outfolder/decoys.txt` with \n",
      "*** `salmon index`\n",
      "**********************************************\n",
      "\n",
      "\n",
      "real\t2m16.708s\n",
      "user\t2m17.410s\n",
      "sys\t0m13.436s\n"
     ]
    }
   ],
   "source": [
    "%%bash\n",
    "time ../scripts/generateDecoyTranscriptome.sh \\\n",
    "-a ../../reference/arabidopsis-tair10/genes.gtf \\\n",
    "-g ../../reference/arabidopsis-tair10/genome.fa \\\n",
    "-t ../../reference/arabidopsis-tair10/transcriptome.fa \\\n",
    "-o ../../reference/arabidopsis-tair10/decoy"
   ]
  },
  {
   "cell_type": "markdown",
   "metadata": {},
   "source": [
    "### Fly dm6"
   ]
  },
  {
   "cell_type": "code",
   "execution_count": 6,
   "metadata": {},
   "outputs": [
    {
     "name": "stdout",
     "output_type": "stream",
     "text": [
      "****************\n",
      "*** getDecoy ***\n",
      "****************\n",
      "-a <Annotation GTF file> = /home/sina/projects/fry/reference/fly-dm6/genes.gtf\n",
      "-g <Genome fasta> = /home/sina/projects/fry/reference/fly-dm6/genome.fa\n",
      "-t <Transcriptome fasta> = /home/sina/projects/fry/reference/fly-dm6/transcriptome.fa\n",
      "-o <Output files Path> = ../../reference/fly-dm6/decoy\n",
      "[1/10] Extracting exonic features from the gtf\n",
      "[2/10] Masking the genome fasta\n",
      "[3/10] Aligning transcriptome to genome\n",
      ">>>>>>>>>>>>>>>>>>\n",
      "Reference = [reference.masked.genome.fa]\n",
      "Query = [/home/sina/projects/fry/reference/fly-dm6/transcriptome.fa]\n",
      "Kmer size = 16\n",
      "Window size = 5\n",
      "Segment length = 500 (read split allowed)\n",
      "Alphabet = DNA\n",
      "Percentage identity threshold = 80%\n",
      "Mapping output file = mashmap.out\n",
      "Filter mode = 1 (1 = map, 2 = one-to-one, 3 = none)\n",
      "Execution threads  = 1\n",
      ">>>>>>>>>>>>>>>>>>\n",
      "INFO, skch::Sketch::build, minimizers picked from reference = 35898282\n",
      "INFO, skch::Sketch::index, unique minimizers = 25334255\n",
      "INFO, skch::Sketch::computeFreqHist, Frequency histogram of minimizers = (1, 22591239) ... (35739, 1)\n",
      "INFO, skch::Sketch::computeFreqHist, With threshold 0.001%, ignore minimizers occurring >= 546 times during lookup.\n",
      "INFO, skch::main, Time spent computing the reference index: 14.6343 sec\n",
      "INFO, skch::Map::mapQuery, [count of mapped reads, reads qualified for mapping, total input reads] = [24553, 31814, 34509]\n",
      "INFO, skch::main, Time spent mapping the query : 418.811 sec\n",
      "INFO, skch::main, mapping results saved in : mashmap.out\n",
      "[4/10] Extracting intervals from mashmap alignments\n",
      "[5/10] Merging the intervals\n",
      "[6/10] Extracting sequences from the genome\n",
      "[7/10] Concatenating to get decoy sequences\n",
      "[8/10] Making gentrome\n",
      "[9/10] Extracting decoy sequence ids\n",
      "[10/10] Removing temporary files\n"
     ]
    },
    {
     "name": "stderr",
     "output_type": "stream",
     "text": [
      "index file reference.masked.genome.fa.fai not found, generating...\n",
      "\n",
      "**********************************************\n",
      "*** DONE Processing ...\n",
      "*** You can use files `$outfolder/gentrome.fa` \n",
      "*** and $outfolder/decoys.txt` with \n",
      "*** `salmon index`\n",
      "**********************************************\n",
      "\n",
      "\n",
      "real\t7m33.247s\n",
      "user\t7m36.528s\n",
      "sys\t0m12.393s\n"
     ]
    }
   ],
   "source": [
    "%%bash\n",
    "time ../scripts/generateDecoyTranscriptome.sh \\\n",
    "-a ../../reference/fly-dm6/genes.gtf \\\n",
    "-g ../../reference/fly-dm6/genome.fa \\\n",
    "-t ../../reference/fly-dm6/transcriptome.fa \\\n",
    "-o ../../reference/fly-dm6/decoy"
   ]
  },
  {
   "cell_type": "markdown",
   "metadata": {},
   "source": [
    "### Worm ws260"
   ]
  },
  {
   "cell_type": "code",
   "execution_count": 5,
   "metadata": {},
   "outputs": [
    {
     "name": "stdout",
     "output_type": "stream",
     "text": [
      "****************\n",
      "*** getDecoy ***\n",
      "****************\n",
      "-a <Annotation GTF file> = /home/sina/projects/fry/reference/worm-ws260/genes.gtf\n",
      "-g <Genome fasta> = /home/sina/projects/fry/reference/worm-ws260/genome.fa\n",
      "-t <Transcriptome fasta> = /home/sina/projects/fry/reference/worm-ws260/transcriptome.fa\n",
      "-o <Output files Path> = ../../reference/worm-ws260/decoy\n",
      "[1/10] Extracting exonic features from the gtf\n",
      "[2/10] Masking the genome fasta\n",
      "[3/10] Aligning transcriptome to genome\n",
      ">>>>>>>>>>>>>>>>>>\n",
      "Reference = [reference.masked.genome.fa]\n",
      "Query = [/home/sina/projects/fry/reference/worm-ws260/transcriptome.fa]\n",
      "Kmer size = 16\n",
      "Window size = 5\n",
      "Segment length = 500 (read split allowed)\n",
      "Alphabet = DNA\n",
      "Percentage identity threshold = 80%\n",
      "Mapping output file = mashmap.out\n",
      "Filter mode = 1 (1 = map, 2 = one-to-one, 3 = none)\n",
      "Execution threads  = 1\n",
      ">>>>>>>>>>>>>>>>>>\n",
      "INFO, skch::Sketch::build, minimizers picked from reference = 24217757\n",
      "INFO, skch::Sketch::index, unique minimizers = 16865535\n",
      "INFO, skch::Sketch::computeFreqHist, Frequency histogram of minimizers = (1, 14508063) ... (67040, 1)\n",
      "INFO, skch::Sketch::computeFreqHist, With threshold 0.001%, ignore minimizers occurring >= 752 times during lookup.\n",
      "INFO, skch::main, Time spent computing the reference index: 11.1255 sec\n",
      "INFO, skch::Map::mapQuery, [count of mapped reads, reads qualified for mapping, total input reads] = [25089, 30829, 34035]\n",
      "INFO, skch::main, Time spent mapping the query : 135.924 sec\n",
      "INFO, skch::main, mapping results saved in : mashmap.out\n",
      "[4/10] Extracting intervals from mashmap alignments\n",
      "[5/10] Merging the intervals\n",
      "[6/10] Extracting sequences from the genome\n",
      "[7/10] Concatenating to get decoy sequences\n",
      "[8/10] Making gentrome\n",
      "[9/10] Extracting decoy sequence ids\n",
      "[10/10] Removing temporary files\n"
     ]
    },
    {
     "name": "stderr",
     "output_type": "stream",
     "text": [
      "index file reference.masked.genome.fa.fai not found, generating...\n",
      "\n",
      "**********************************************\n",
      "*** DONE Processing ...\n",
      "*** You can use files `$outfolder/gentrome.fa` \n",
      "*** and $outfolder/decoys.txt` with \n",
      "*** `salmon index`\n",
      "**********************************************\n",
      "\n",
      "\n",
      "real\t2m41.448s\n",
      "user\t2m44.900s\n",
      "sys\t0m10.848s\n"
     ]
    }
   ],
   "source": [
    "%%bash\n",
    "time ../scripts/generateDecoyTranscriptome.sh \\\n",
    "-a ../../reference/worm-ws260/genes.gtf \\\n",
    "-g ../../reference/worm-ws260/genome.fa \\\n",
    "-t ../../reference/worm-ws260/transcriptome.fa \\\n",
    "-o ../../reference/worm-ws260/decoy"
   ]
  },
  {
   "cell_type": "markdown",
   "metadata": {},
   "source": [
    "## Human GRCh38"
   ]
  },
  {
   "cell_type": "code",
   "execution_count": null,
   "metadata": {},
   "outputs": [],
   "source": [
    "%%bash\n",
    "time salmon index -i ../../reference/human-grch38/salmon \\\n",
    "                  -t ../../reference/human-grch38/transcriptome.fa.gz"
   ]
  },
  {
   "cell_type": "markdown",
   "metadata": {},
   "source": [
    "## Human-mouse hg19-mm10"
   ]
  },
  {
   "cell_type": "code",
   "execution_count": null,
   "metadata": {},
   "outputs": [],
   "source": [
    "%%bash\n",
    "time salmon index -i ../../reference/human_mouse-hg19_mm10/salmon \\\n",
    "                  -t ../../reference/human_mouse-hg19_mm10/transcriptome.fa.gz"
   ]
  },
  {
   "cell_type": "markdown",
   "metadata": {},
   "source": [
    "## Mouse mm10"
   ]
  },
  {
   "cell_type": "code",
   "execution_count": null,
   "metadata": {},
   "outputs": [],
   "source": [
    "%%bash\n",
    "time salmon index -i ../../reference/mouse-mm10/salmon \\\n",
    "                  -t ../../reference/mouse-mm10/transcriptome.fa.gz"
   ]
  },
  {
   "cell_type": "markdown",
   "metadata": {},
   "source": [
    "## Rat rnor6"
   ]
  },
  {
   "cell_type": "code",
   "execution_count": null,
   "metadata": {},
   "outputs": [],
   "source": [
    "%%bash\n",
    "time salmon index -i ../../reference/rat-rnor6/salmon \\\n",
    "                  -t ../../reference/rat-rnor6/transcriptome.fa.gz"
   ]
  },
  {
   "cell_type": "markdown",
   "metadata": {},
   "source": [
    "## Zebrafish dr82"
   ]
  },
  {
   "cell_type": "code",
   "execution_count": null,
   "metadata": {},
   "outputs": [],
   "source": [
    "%%bash\n",
    "time salmon index -i ../../reference/zebrafish-dr82/salmon \\\n",
    "                  -t ../../reference/zebrafish-dr82/transcriptome.fa.gz"
   ]
  },
  {
   "cell_type": "markdown",
   "metadata": {},
   "source": [
    "## Arabidopsis tair10"
   ]
  },
  {
   "cell_type": "code",
   "execution_count": null,
   "metadata": {},
   "outputs": [],
   "source": [
    "%%bash\n",
    "time salmon index -i ../../reference/arabidopsis-tair10/salmon \\\n",
    "                  -t ../../reference/arabidopsis-tair10/transcriptome.fa.gz"
   ]
  },
  {
   "cell_type": "markdown",
   "metadata": {},
   "source": [
    "## Fly dm6"
   ]
  },
  {
   "cell_type": "code",
   "execution_count": 6,
   "metadata": {},
   "outputs": [
    {
     "name": "stderr",
     "output_type": "stream",
     "text": [
      "\n",
      "[build] loading fasta file ../../reference/fly-dm6/transcriptome.fa.gz\n",
      "[build] k-mer length: 31\n",
      "[build] warning: clipped off poly-A tail (longer than 10)\n",
      "        from 9 target sequences\n",
      "[build] counting k-mers ... done.\n",
      "[build] building target de Bruijn graph ...  done \n",
      "[build] creating equivalence classes ...  done\n",
      "[build] target de Bruijn graph has 80001 contigs and contains 35116434 k-mers \n",
      "\n",
      "\n",
      "real\t1m16.086s\n",
      "user\t1m14.699s\n",
      "sys\t0m1.381s\n"
     ]
    }
   ],
   "source": [
    "%%bash\n",
    "time salmon index -i ../../reference/fly-dm6/salmon \\\n",
    "                  -t ../../reference/fly-dm6/transcriptome.fa.gz"
   ]
  },
  {
   "cell_type": "markdown",
   "metadata": {},
   "source": [
    "## Worm ws260"
   ]
  },
  {
   "cell_type": "code",
   "execution_count": 5,
   "metadata": {},
   "outputs": [
    {
     "name": "stderr",
     "output_type": "stream",
     "text": [
      "\n",
      "[build] loading fasta file ../../reference/worm-ws260/transcriptome.fa.gz\n",
      "[build] k-mer length: 31\n",
      "[build] warning: clipped off poly-A tail (longer than 10)\n",
      "        from 20 target sequences\n",
      "[build] counting k-mers ... done.\n",
      "[build] building target de Bruijn graph ...  done \n",
      "[build] creating equivalence classes ...  done\n",
      "[build] target de Bruijn graph has 78989 contigs and contains 28637583 k-mers \n",
      "\n",
      "\n",
      "real\t1m9.666s\n",
      "user\t1m8.788s\n",
      "sys\t0m0.880s\n"
     ]
    }
   ],
   "source": [
    "%%bash\n",
    "time kallisto index -i ../../reference/worm-ws260/kallisto.idx \\\n",
    "                  ../../reference/worm-ws260/transcriptome.fa.gz"
   ]
  }
 ],
 "metadata": {
  "kernelspec": {
   "display_name": "Python 3",
   "language": "python",
   "name": "python3"
  },
  "language_info": {
   "codemirror_mode": {
    "name": "ipython",
    "version": 3
   },
   "file_extension": ".py",
   "mimetype": "text/x-python",
   "name": "python",
   "nbconvert_exporter": "python",
   "pygments_lexer": "ipython3",
   "version": "3.7.4"
  }
 },
 "nbformat": 4,
 "nbformat_minor": 4
}
