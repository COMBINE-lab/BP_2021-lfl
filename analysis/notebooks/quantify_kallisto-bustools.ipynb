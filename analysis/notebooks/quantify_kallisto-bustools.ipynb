{
 "cells": [
  {
   "cell_type": "code",
   "execution_count": 1,
   "metadata": {},
   "outputs": [
    {
     "name": "stdout",
     "output_type": "stream",
     "text": [
      "Thu Jan 14 14:54:02 PST 2021\n"
     ]
    }
   ],
   "source": [
    "!date"
   ]
  },
  {
   "cell_type": "markdown",
   "metadata": {},
   "source": [
    "# Quantify with kallisto and bustools"
   ]
  },
  {
   "cell_type": "markdown",
   "metadata": {},
   "source": [
    "### Dataset"
   ]
  },
  {
   "cell_type": "markdown",
   "metadata": {},
   "source": [
    "```\n",
    "ref   ../../reference/mouse-mm10/\n",
    "out   ../../data/kallisto_out/mouse-SRR8206317_v2\n",
    "fastq ../../data/fastqs/mouse-SRR8206317_v2\n",
    "\n",
    "whitelist ../../reference/whitelist_10xv2.txt\n",
    "```"
   ]
  },
  {
   "cell_type": "code",
   "execution_count": 17,
   "metadata": {},
   "outputs": [
    {
     "name": "stderr",
     "output_type": "stream",
     "text": [
      "\n",
      "[index] k-mer length: 31\n",
      "[index] number of targets: 111,079\n",
      "[index] number of k-mers: 102,195,391\n",
      "[index] number of equivalence classes: 372,074\n",
      "[quant] will process sample 1: ../../data/fastqs/mouse-SRR8206317_v2/bamtofastq_S1_L001_R1_001.fastq.gz\n",
      "                               ../../data/fastqs/mouse-SRR8206317_v2/bamtofastq_S1_L001_R2_001.fastq.gz\n",
      "[quant] will process sample 2: ../../data/fastqs/mouse-SRR8206317_v2/bamtofastq_S1_L002_R1_001.fastq.gz\n",
      "                               ../../data/fastqs/mouse-SRR8206317_v2/bamtofastq_S1_L002_R2_001.fastq.gz\n",
      "[quant] will process sample 3: ../../data/fastqs/mouse-SRR8206317_v2/bamtofastq_S1_L003_R1_001.fastq.gz\n",
      "                               ../../data/fastqs/mouse-SRR8206317_v2/bamtofastq_S1_L003_R2_001.fastq.gz\n",
      "[quant] will process sample 4: ../../data/fastqs/mouse-SRR8206317_v2/bamtofastq_S1_L004_R1_001.fastq.gz\n",
      "                               ../../data/fastqs/mouse-SRR8206317_v2/bamtofastq_S1_L004_R2_001.fastq.gz\n",
      "[quant] finding pseudoalignments for the reads ... done\n",
      "[quant] processed 85,992,089 reads, 68,806,093 reads pseudoaligned\n",
      "\n",
      "real\t4m1.957s\n",
      "user\t6m46.136s\n",
      "sys\t0m9.887s\n"
     ]
    }
   ],
   "source": [
    "%%bash\n",
    "\n",
    "FASTQDIR=\"../../data/fastqs/mouse-SRR8206317_v2/\" && \\\n",
    "OUTDIR=\"../../data/kallisto_out/mouse-SRR8206317_v2\" && \\\n",
    "INDEX=\"../../reference/mouse-mm10/kallisto.idx\" && \\\n",
    "time kallisto bus \\\n",
    "-i $INDEX \\\n",
    "-o $OUTDIR \\\n",
    "-x 10xv2 \\\n",
    "-t 2 \\\n",
    "$(paste -d\" \" \\\n",
    "  <(ls $FASTQDIR | awk -v p=$FASTQDIR '{print p$0}' | grep R1) \\\n",
    "  <(ls $FASTQDIR | awk -v p=$FASTQDIR '{print p$0}' | grep R2))"
   ]
  },
  {
   "cell_type": "code",
   "execution_count": 6,
   "metadata": {},
   "outputs": [
    {
     "name": "stderr",
     "output_type": "stream",
     "text": [
      "Found 737280 barcodes in the whitelist\n",
      "Processed 68806093 bus records\n",
      "In whitelist = 66294966\n",
      "Corrected = 782287\n",
      "Uncorrected = 1728840\n",
      "\n",
      "real\t0m49.721s\n",
      "user\t0m11.973s\n",
      "sys\t0m35.132s\n"
     ]
    }
   ],
   "source": [
    "%%bash\n",
    "OUTDIR=\"../../data/kallisto_out/mouse-SRR8206317_v2\" && \\\n",
    "WHITELIST=\"../../reference/whitelist_10xv2.txt\" && \\\n",
    "time bustools correct \\\n",
    "-w $WHITELIST \\\n",
    "-o $OUTDIR/c.bus \\\n",
    "   $OUTDIR/output.bus"
   ]
  },
  {
   "cell_type": "code",
   "execution_count": 7,
   "metadata": {},
   "outputs": [
    {
     "name": "stderr",
     "output_type": "stream",
     "text": [
      "Read in 67077253 BUS records\n",
      "\n",
      "real\t1m20.601s\n",
      "user\t0m20.366s\n",
      "sys\t0m54.703s\n"
     ]
    }
   ],
   "source": [
    "%%bash\n",
    "OUTDIR=\"../../data/kallisto_out/mouse-SRR8206317_v2\" && \\\n",
    "time bustools sort \\\n",
    "-t 8 \\\n",
    "-m 8G \\\n",
    "-o $OUTDIR/sc.bus \\\n",
    "   $OUTDIR/c.bus"
   ]
  },
  {
   "cell_type": "code",
   "execution_count": 8,
   "metadata": {},
   "outputs": [],
   "source": [
    "!mkdir -p ../../data/kallisto_out/mouse-SRR8206317_v2/count"
   ]
  },
  {
   "cell_type": "code",
   "execution_count": 2,
   "metadata": {},
   "outputs": [
    {
     "name": "stderr",
     "output_type": "stream",
     "text": [
      "\n",
      "real\t0m13.241s\n",
      "user\t0m12.146s\n",
      "sys\t0m0.894s\n"
     ]
    }
   ],
   "source": [
    "%%bash\n",
    "OUTDIR=\"../../data/kallisto_out/mouse-SRR8206317_v2\" && \\\n",
    "T2G='../../reference/mouse-mm10/t2g.txt' && \\\n",
    "time bustools count \\\n",
    "--genecounts \\\n",
    "-g $T2G \\\n",
    "-o $OUTDIR/count/ \\\n",
    "-e $OUTDIR/matrix.ec \\\n",
    "-t $OUTDIR/transcripts.txt \\\n",
    "   $OUTDIR/sc.bus"
   ]
  },
  {
   "cell_type": "code",
   "execution_count": null,
   "metadata": {},
   "outputs": [],
   "source": []
  }
 ],
 "metadata": {
  "kernelspec": {
   "display_name": "Python 3",
   "language": "python",
   "name": "python3"
  },
  "language_info": {
   "codemirror_mode": {
    "name": "ipython",
    "version": 3
   },
   "file_extension": ".py",
   "mimetype": "text/x-python",
   "name": "python",
   "nbconvert_exporter": "python",
   "pygments_lexer": "ipython3",
   "version": "3.7.4"
  }
 },
 "nbformat": 4,
 "nbformat_minor": 4
}
