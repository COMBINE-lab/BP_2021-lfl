{
 "cells": [
  {
   "cell_type": "code",
   "execution_count": 2,
   "metadata": {},
   "outputs": [
    {
     "name": "stdout",
     "output_type": "stream",
     "text": [
      "Thu Jan 14 21:13:08 PST 2021\n"
     ]
    }
   ],
   "source": [
    "!date"
   ]
  },
  {
   "cell_type": "markdown",
   "metadata": {},
   "source": [
    "# Quantify with salmon alevin and alevin-fried"
   ]
  },
  {
   "cell_type": "markdown",
   "metadata": {},
   "source": [
    "### Dataset"
   ]
  },
  {
   "cell_type": "markdown",
   "metadata": {},
   "source": [
    "```\n",
    "ref   ../../reference/mouse-mm10/\n",
    "out   ../../data/kallisto_out/mouse-SRR8206317_v2\n",
    "fastq ../../data/fastqs/mouse-SRR8206317_v2\n",
    "\n",
    "whitelist ../../reference/whitelist_10xv2.txt\n",
    "```"
   ]
  },
  {
   "cell_type": "code",
   "execution_count": 7,
   "metadata": {},
   "outputs": [
    {
     "name": "stdout",
     "output_type": "stream",
     "text": [
      "Process is interrupted.\n"
     ]
    }
   ],
   "source": [
    "%%bash\n",
    "FASTQDIR=\"../../data/fastqs/mouse-SRR8206317_v2/\" && \\\n",
    "OUTDIR=\"../../data/alevin_out/mouse-SRR8206317_v2\" && \\\n",
    "INDEX=\"../../reference/mouse-mm10/salmon\" && \\\n",
    "T2G='../../reference/mouse-mm10/alevin_t2g.txt' && \\\n",
    "time salmon alevin \\\n",
    "-l ISR \\\n",
    "-i $INDEX \\\n",
    "-1 $(ls $FASTQDIR | awk -v p=$FASTQDIR '{print p$0}' | grep R1) \\\n",
    "-2 $(ls $FASTQDIR | awk -v p=$FASTQDIR '{print p$0}' | grep R2) \\\n",
    "--tgMap $T2G \\\n",
    "-o $OUTDIR \\\n",
    "--rad \\\n",
    "-p 1 \\\n",
    "--chromium"
   ]
  },
  {
   "cell_type": "code",
   "execution_count": 1,
   "metadata": {},
   "outputs": [
    {
     "name": "stderr",
     "output_type": "stream",
     "text": [
      "2021-01-18 10:04:48 INFO paired : false, ref_count : 110,396, num_chunks : 13,310\n",
      "2021-01-18 10:04:48 INFO read 2 file-level tags\n",
      "2021-01-18 10:04:48 INFO read 2 read-level tags\n",
      "2021-01-18 10:04:48 INFO read 1 alignemnt-level tags\n",
      "2021-01-18 10:04:48 INFO File-level tag values FileTags { bclen: 16, umilen: 10 }\n",
      "2021-01-18 10:04:56 INFO observed 66,544,084 reads in 13,310 chunks\n",
      "2021-01-18 10:05:14 INFO total number of corrected barcodes : 665,899\n",
      "\n",
      "real\t0m26.585s\n",
      "user\t0m24.239s\n",
      "sys\t0m2.248s\n"
     ]
    }
   ],
   "source": [
    "%%bash\n",
    "INDIR=\"../../data/alevin_out/mouse-SRR8206317_v2\" && \\\n",
    "OUTDIR=\"../../data/alevin_out/mouse-SRR8206317_v2/generate\" && \\\n",
    "WHITELIST=\"../../reference/whitelist_10xv2.txt\" && \\\n",
    "time alevin-fry generate-permit-list \\\n",
    "-d either \\\n",
    "-i $INDIR \\\n",
    "-o $OUTDIR \\\n",
    "-b $WHITELIST"
   ]
  },
  {
   "cell_type": "markdown",
   "metadata": {},
   "source": [
    "#### Note that `-m` needs to be set to limit memory"
   ]
  },
  {
   "cell_type": "code",
   "execution_count": 2,
   "metadata": {},
   "outputs": [
    {
     "name": "stderr",
     "output_type": "stream",
     "text": [
      "2021-01-18 10:05:14 INFO estimated that collation would require 2 passes over input.\n",
      "2021-01-18 10:05:14 INFO executing multi-pass strategy.\n",
      "2021-01-18 10:05:14 INFO expected_ori = Unknown\n",
      "2021-01-18 10:05:14 INFO paired : false, ref_count : 110396, num_chunks : 13310, expected_ori : Unknown\n",
      "2021-01-18 10:05:14 INFO read 2 file-level tags\n",
      "2021-01-18 10:05:14 INFO read 2 read-level tags\n",
      "2021-01-18 10:05:14 INFO read 1 alignemnt-level tags\n",
      "2021-01-18 10:05:14 INFO File-level tag values FileTags { bclen: 16, umilen: 10 }\n",
      "2021-01-18 10:07:22 INFO deserialized correction map of length : 64588762\n",
      "2021-01-18 10:07:33 INFO \n",
      "\n",
      "total_allocated_records = 66112108, total_to_collate = 66112108\n",
      "\n",
      "\n",
      "2021-01-18 10:07:33 INFO writing num output chunks (368220) to header\n",
      "2021-01-18 10:07:33 INFO finished collating input rad file \"../../data/alevin_out/mouse-SRR8206317_v2/map.rad\".\n",
      "\n",
      "real\t2m18.307s\n",
      "user\t2m7.644s\n",
      "sys\t1m11.100s\n"
     ]
    }
   ],
   "source": [
    "%%bash\n",
    "INDIR=\"../../data/alevin_out/mouse-SRR8206317_v2/generate\" && \\\n",
    "RAD=\"../../data/alevin_out/mouse-SRR8206317_v2\" && \\\n",
    "time alevin-fry collate \\\n",
    "-i $INDIR \\\n",
    "-r $RAD \\\n",
    "-t 8 "
   ]
  },
  {
   "cell_type": "code",
   "execution_count": 6,
   "metadata": {},
   "outputs": [
    {
     "name": "stderr",
     "output_type": "stream",
     "text": [
      "2021-01-18 10:14:56 INFO paired : false, ref_count : 110396, num_chunks : 368220\n",
      "thread 'main' panicked at 'could not quantify rad file.: Error(Deserialize { pos: Some(Position { byte: 0, line: 1, record: 0 }), err: DeserializeError { field: None, kind: Message(\"invalid length 1, expected a tuple of size 2\") } })', src/main.rs:286:10\n",
      "note: run with `RUST_BACKTRACE=1` environment variable to display a backtrace\n",
      "\n",
      "real\t0m0.055s\n",
      "user\t0m0.037s\n",
      "sys\t0m0.010s\n"
     ]
    },
    {
     "ename": "CalledProcessError",
     "evalue": "Command 'b'INDIR=\"../../data/alevin_out/mouse-SRR8206317_v2/generate\" && \\\\\\nOUTDIR=\"../../data/alevin_out/mouse-SRR8206317_v2/quant\" && \\\\\\nT2G=\\'../../reference/mouse-mm10/decoy/decoy_t2g.txt\\' && \\\\\\ntime alevin-fry quant \\\\\\n--use-mtx \\\\\\n-i $INDIR \\\\\\n-o $OUTDIR \\\\\\n-m $T2G \\\\\\n-t 8\\n'' returned non-zero exit status 101.",
     "output_type": "error",
     "traceback": [
      "\u001b[0;31m---------------------------------------------------------------------------\u001b[0m",
      "\u001b[0;31mCalledProcessError\u001b[0m                        Traceback (most recent call last)",
      "\u001b[0;32m<ipython-input-6-34162880469a>\u001b[0m in \u001b[0;36m<module>\u001b[0;34m\u001b[0m\n\u001b[0;32m----> 1\u001b[0;31m \u001b[0mget_ipython\u001b[0m\u001b[0;34m(\u001b[0m\u001b[0;34m)\u001b[0m\u001b[0;34m.\u001b[0m\u001b[0mrun_cell_magic\u001b[0m\u001b[0;34m(\u001b[0m\u001b[0;34m'bash'\u001b[0m\u001b[0;34m,\u001b[0m \u001b[0;34m''\u001b[0m\u001b[0;34m,\u001b[0m \u001b[0;34m'INDIR=\"../../data/alevin_out/mouse-SRR8206317_v2/generate\" && \\\\\\nOUTDIR=\"../../data/alevin_out/mouse-SRR8206317_v2/quant\" && \\\\\\nT2G=\\'../../reference/mouse-mm10/decoy/decoy_t2g.txt\\' && \\\\\\ntime alevin-fry quant \\\\\\n--use-mtx \\\\\\n-i $INDIR \\\\\\n-o $OUTDIR \\\\\\n-m $T2G \\\\\\n-t 8\\n'\u001b[0m\u001b[0;34m)\u001b[0m\u001b[0;34m\u001b[0m\u001b[0;34m\u001b[0m\u001b[0m\n\u001b[0m",
      "\u001b[0;32m~/miniconda3/lib/python3.7/site-packages/IPython/core/interactiveshell.py\u001b[0m in \u001b[0;36mrun_cell_magic\u001b[0;34m(self, magic_name, line, cell)\u001b[0m\n\u001b[1;32m   2360\u001b[0m             \u001b[0;32mwith\u001b[0m \u001b[0mself\u001b[0m\u001b[0;34m.\u001b[0m\u001b[0mbuiltin_trap\u001b[0m\u001b[0;34m:\u001b[0m\u001b[0;34m\u001b[0m\u001b[0;34m\u001b[0m\u001b[0m\n\u001b[1;32m   2361\u001b[0m                 \u001b[0margs\u001b[0m \u001b[0;34m=\u001b[0m \u001b[0;34m(\u001b[0m\u001b[0mmagic_arg_s\u001b[0m\u001b[0;34m,\u001b[0m \u001b[0mcell\u001b[0m\u001b[0;34m)\u001b[0m\u001b[0;34m\u001b[0m\u001b[0;34m\u001b[0m\u001b[0m\n\u001b[0;32m-> 2362\u001b[0;31m                 \u001b[0mresult\u001b[0m \u001b[0;34m=\u001b[0m \u001b[0mfn\u001b[0m\u001b[0;34m(\u001b[0m\u001b[0;34m*\u001b[0m\u001b[0margs\u001b[0m\u001b[0;34m,\u001b[0m \u001b[0;34m**\u001b[0m\u001b[0mkwargs\u001b[0m\u001b[0;34m)\u001b[0m\u001b[0;34m\u001b[0m\u001b[0;34m\u001b[0m\u001b[0m\n\u001b[0m\u001b[1;32m   2363\u001b[0m             \u001b[0;32mreturn\u001b[0m \u001b[0mresult\u001b[0m\u001b[0;34m\u001b[0m\u001b[0;34m\u001b[0m\u001b[0m\n\u001b[1;32m   2364\u001b[0m \u001b[0;34m\u001b[0m\u001b[0m\n",
      "\u001b[0;32m~/miniconda3/lib/python3.7/site-packages/IPython/core/magics/script.py\u001b[0m in \u001b[0;36mnamed_script_magic\u001b[0;34m(line, cell)\u001b[0m\n\u001b[1;32m    140\u001b[0m             \u001b[0;32melse\u001b[0m\u001b[0;34m:\u001b[0m\u001b[0;34m\u001b[0m\u001b[0;34m\u001b[0m\u001b[0m\n\u001b[1;32m    141\u001b[0m                 \u001b[0mline\u001b[0m \u001b[0;34m=\u001b[0m \u001b[0mscript\u001b[0m\u001b[0;34m\u001b[0m\u001b[0;34m\u001b[0m\u001b[0m\n\u001b[0;32m--> 142\u001b[0;31m             \u001b[0;32mreturn\u001b[0m \u001b[0mself\u001b[0m\u001b[0;34m.\u001b[0m\u001b[0mshebang\u001b[0m\u001b[0;34m(\u001b[0m\u001b[0mline\u001b[0m\u001b[0;34m,\u001b[0m \u001b[0mcell\u001b[0m\u001b[0;34m)\u001b[0m\u001b[0;34m\u001b[0m\u001b[0;34m\u001b[0m\u001b[0m\n\u001b[0m\u001b[1;32m    143\u001b[0m \u001b[0;34m\u001b[0m\u001b[0m\n\u001b[1;32m    144\u001b[0m         \u001b[0;31m# write a basic docstring:\u001b[0m\u001b[0;34m\u001b[0m\u001b[0;34m\u001b[0m\u001b[0;34m\u001b[0m\u001b[0m\n",
      "\u001b[0;32m</home/sina/miniconda3/lib/python3.7/site-packages/decorator.py:decorator-gen-103>\u001b[0m in \u001b[0;36mshebang\u001b[0;34m(self, line, cell)\u001b[0m\n",
      "\u001b[0;32m~/miniconda3/lib/python3.7/site-packages/IPython/core/magic.py\u001b[0m in \u001b[0;36m<lambda>\u001b[0;34m(f, *a, **k)\u001b[0m\n\u001b[1;32m    185\u001b[0m     \u001b[0;31m# but it's overkill for just that one bit of state.\u001b[0m\u001b[0;34m\u001b[0m\u001b[0;34m\u001b[0m\u001b[0;34m\u001b[0m\u001b[0m\n\u001b[1;32m    186\u001b[0m     \u001b[0;32mdef\u001b[0m \u001b[0mmagic_deco\u001b[0m\u001b[0;34m(\u001b[0m\u001b[0marg\u001b[0m\u001b[0;34m)\u001b[0m\u001b[0;34m:\u001b[0m\u001b[0;34m\u001b[0m\u001b[0;34m\u001b[0m\u001b[0m\n\u001b[0;32m--> 187\u001b[0;31m         \u001b[0mcall\u001b[0m \u001b[0;34m=\u001b[0m \u001b[0;32mlambda\u001b[0m \u001b[0mf\u001b[0m\u001b[0;34m,\u001b[0m \u001b[0;34m*\u001b[0m\u001b[0ma\u001b[0m\u001b[0;34m,\u001b[0m \u001b[0;34m**\u001b[0m\u001b[0mk\u001b[0m\u001b[0;34m:\u001b[0m \u001b[0mf\u001b[0m\u001b[0;34m(\u001b[0m\u001b[0;34m*\u001b[0m\u001b[0ma\u001b[0m\u001b[0;34m,\u001b[0m \u001b[0;34m**\u001b[0m\u001b[0mk\u001b[0m\u001b[0;34m)\u001b[0m\u001b[0;34m\u001b[0m\u001b[0;34m\u001b[0m\u001b[0m\n\u001b[0m\u001b[1;32m    188\u001b[0m \u001b[0;34m\u001b[0m\u001b[0m\n\u001b[1;32m    189\u001b[0m         \u001b[0;32mif\u001b[0m \u001b[0mcallable\u001b[0m\u001b[0;34m(\u001b[0m\u001b[0marg\u001b[0m\u001b[0;34m)\u001b[0m\u001b[0;34m:\u001b[0m\u001b[0;34m\u001b[0m\u001b[0;34m\u001b[0m\u001b[0m\n",
      "\u001b[0;32m~/miniconda3/lib/python3.7/site-packages/IPython/core/magics/script.py\u001b[0m in \u001b[0;36mshebang\u001b[0;34m(self, line, cell)\u001b[0m\n\u001b[1;32m    243\u001b[0m             \u001b[0msys\u001b[0m\u001b[0;34m.\u001b[0m\u001b[0mstderr\u001b[0m\u001b[0;34m.\u001b[0m\u001b[0mflush\u001b[0m\u001b[0;34m(\u001b[0m\u001b[0;34m)\u001b[0m\u001b[0;34m\u001b[0m\u001b[0;34m\u001b[0m\u001b[0m\n\u001b[1;32m    244\u001b[0m         \u001b[0;32mif\u001b[0m \u001b[0margs\u001b[0m\u001b[0;34m.\u001b[0m\u001b[0mraise_error\u001b[0m \u001b[0;32mand\u001b[0m \u001b[0mp\u001b[0m\u001b[0;34m.\u001b[0m\u001b[0mreturncode\u001b[0m\u001b[0;34m!=\u001b[0m\u001b[0;36m0\u001b[0m\u001b[0;34m:\u001b[0m\u001b[0;34m\u001b[0m\u001b[0;34m\u001b[0m\u001b[0m\n\u001b[0;32m--> 245\u001b[0;31m             \u001b[0;32mraise\u001b[0m \u001b[0mCalledProcessError\u001b[0m\u001b[0;34m(\u001b[0m\u001b[0mp\u001b[0m\u001b[0;34m.\u001b[0m\u001b[0mreturncode\u001b[0m\u001b[0;34m,\u001b[0m \u001b[0mcell\u001b[0m\u001b[0;34m,\u001b[0m \u001b[0moutput\u001b[0m\u001b[0;34m=\u001b[0m\u001b[0mout\u001b[0m\u001b[0;34m,\u001b[0m \u001b[0mstderr\u001b[0m\u001b[0;34m=\u001b[0m\u001b[0merr\u001b[0m\u001b[0;34m)\u001b[0m\u001b[0;34m\u001b[0m\u001b[0;34m\u001b[0m\u001b[0m\n\u001b[0m\u001b[1;32m    246\u001b[0m \u001b[0;34m\u001b[0m\u001b[0m\n\u001b[1;32m    247\u001b[0m     \u001b[0;32mdef\u001b[0m \u001b[0m_run_script\u001b[0m\u001b[0;34m(\u001b[0m\u001b[0mself\u001b[0m\u001b[0;34m,\u001b[0m \u001b[0mp\u001b[0m\u001b[0;34m,\u001b[0m \u001b[0mcell\u001b[0m\u001b[0;34m,\u001b[0m \u001b[0mto_close\u001b[0m\u001b[0;34m)\u001b[0m\u001b[0;34m:\u001b[0m\u001b[0;34m\u001b[0m\u001b[0;34m\u001b[0m\u001b[0m\n",
      "\u001b[0;31mCalledProcessError\u001b[0m: Command 'b'INDIR=\"../../data/alevin_out/mouse-SRR8206317_v2/generate\" && \\\\\\nOUTDIR=\"../../data/alevin_out/mouse-SRR8206317_v2/quant\" && \\\\\\nT2G=\\'../../reference/mouse-mm10/decoy/decoy_t2g.txt\\' && \\\\\\ntime alevin-fry quant \\\\\\n--use-mtx \\\\\\n-i $INDIR \\\\\\n-o $OUTDIR \\\\\\n-m $T2G \\\\\\n-t 8\\n'' returned non-zero exit status 101."
     ]
    }
   ],
   "source": [
    "%%bash\n",
    "INDIR=\"../../data/alevin_out/mouse-SRR8206317_v2/generate\" && \\\n",
    "OUTDIR=\"../../data/alevin_out/mouse-SRR8206317_v2/quant\" && \\\n",
    "T2G='../../reference/mouse-mm10/t2g.txt' && \\\n",
    "time alevin-fry quant \\\n",
    "--use-mtx \\\n",
    "-i $INDIR \\\n",
    "-o $OUTDIR \\\n",
    "-m $T2G \\\n",
    "-t 8"
   ]
  },
  {
   "cell_type": "code",
   "execution_count": null,
   "metadata": {},
   "outputs": [],
   "source": []
  }
 ],
 "metadata": {
  "kernelspec": {
   "display_name": "Python 3",
   "language": "python",
   "name": "python3"
  },
  "language_info": {
   "codemirror_mode": {
    "name": "ipython",
    "version": 3
   },
   "file_extension": ".py",
   "mimetype": "text/x-python",
   "name": "python",
   "nbconvert_exporter": "python",
   "pygments_lexer": "ipython3",
   "version": "3.7.4"
  }
 },
 "nbformat": 4,
 "nbformat_minor": 4
}
