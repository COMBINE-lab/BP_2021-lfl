{
 "cells": [
  {
   "cell_type": "code",
   "execution_count": null,
   "metadata": {},
   "outputs": [],
   "source": [
    "!date"
   ]
  },
  {
   "cell_type": "markdown",
   "metadata": {},
   "source": [
    "# Memory and time"
   ]
  },
  {
   "cell_type": "code",
   "execution_count": null,
   "metadata": {},
   "outputs": [],
   "source": [
    "import pandas as pd\n",
    "import matplotlib.pyplot as plt\n",
    "import glob\n",
    "import numpy as np\n",
    "import matplotlib\n",
    "import json\n",
    "import os\n",
    "\n",
    "matplotlib.rcParams.update({'font.size': 20})\n",
    "\n",
    "%config InlineBackend.figure_format = 'retina'"
   ]
  },
  {
   "cell_type": "code",
   "execution_count": null,
   "metadata": {},
   "outputs": [],
   "source": [
    "REF = {\n",
    "    \"arabidopsis-SRR8257100_v2\": \"arabidopsis\",\n",
    "    \"fly-SRR8513910_v2\": \"fly\",\n",
    "    \"human_mouse-hgmm1k_v2\": \"human_mouse\",\n",
    "    \"human-SRR8327928_v2\": \"human\",\n",
    "    \"human-SRR8524760_v2\": \"human\",\n",
    "    \"mouse-EMTAB7320_v2\": \"mouse\",\n",
    "    \"mouse-heart1k_v2\": \"mouse\",\n",
    "    \"mouse-SRR6998058_v2\": \"mouse\",\n",
    "    \"mouse-SRR8206317_v2\": \"mouse\",\n",
    "    \"mouse-SRR8599150_v2\": \"mouse\",\n",
    "    \"mouse-SRR8639063_v2\": \"mouse\",\n",
    "    \"rat-SRR7299563_v2\": \"rat\",\n",
    "    \"worm-SRR8611943_v2\": \"worm\",\n",
    "    \"zebrafish-SRR6956073_v2\": \"zebrafish\",\n",
    "    \"human_mouse-hgmm10k_v3\": \"human_mouse\",\n",
    "    \"human_mouse-hgmm1k_v3\": \"human_mouse\",\n",
    "    \"human-pbmc10k_v3\": \"human\",\n",
    "    \"human-pbmc1k_v3\": \"human\",\n",
    "    \"mouse-heart1k_v3\": \"mouse\",\n",
    "    \"mouse-neuron10k_v3\": \"mouse\",\n",
    "}"
   ]
  },
  {
   "cell_type": "code",
   "execution_count": null,
   "metadata": {},
   "outputs": [],
   "source": [
    "config_all = '../scripts/config_all.json'\n",
    "with open(config_all) as f:\n",
    "  addresses = json.load(f)\n",
    "\n",
    "ref_dir = addresses['ref_dir']\n",
    "out_dir = addresses['out_dir']"
   ]
  },
  {
   "cell_type": "code",
   "execution_count": null,
   "metadata": {},
   "outputs": [],
   "source": [
    "def get_time(line):\n",
    "    # returns milliseconds\n",
    "    t = \":\".join(line.split(\":\")[4:]).strip()\n",
    "    hours, minutes, seconds = ([\"0\", \"0\"] + t.split(\":\"))[-3:]\n",
    "    hours = int(hours)\n",
    "    minutes = int(minutes)\n",
    "    seconds = float(seconds)\n",
    "    ms = int(3600000 * hours + 60000 * minutes + 1000 * seconds)\n",
    "\n",
    "    return ms\n",
    "        \n",
    "def get_mem(line):\n",
    "    # returns bytes\n",
    "    mem = int(line.split(':')[-1].strip())*1000\n",
    "    return mem\n",
    "\n",
    "def get_memtime(f):\n",
    "    with open(f, 'r') as file:\n",
    "        for idx, line in enumerate(file):\n",
    "            if idx == 4:\n",
    "                time = get_time(line)\n",
    "            if idx == 9:\n",
    "                mem = get_mem(line)\n",
    "    return (mem, time)"
   ]
  },
  {
   "cell_type": "markdown",
   "metadata": {},
   "source": [
    "### load kallisto index time and mem"
   ]
  },
  {
   "cell_type": "code",
   "execution_count": null,
   "metadata": {},
   "outputs": [],
   "source": [
    "# kb files\n",
    "d = {}\n",
    "\n",
    "d[\"index\"] = {\"time\": [], \"mem\": []}\n",
    "files = sorted(glob.glob(ref_dir+'/*/kallisto.log'))\n",
    "\n",
    "mem = []\n",
    "time = []\n",
    "for f in files:\n",
    "    m, t = get_memtime(f)\n",
    "    mem.append(m)\n",
    "    time.append(t)\n",
    "d[\"index\"]['time'] = time\n",
    "d[\"index\"]['mem'] = mem"
   ]
  },
  {
   "cell_type": "code",
   "execution_count": null,
   "metadata": {},
   "outputs": [],
   "source": [
    "names = [f.split(\"/\")[-2] for f in files]\n",
    "\n",
    "kb_idx = pd.DataFrame.from_dict({(i,j): d[i][j] \n",
    "                           for i in d.keys() \n",
    "                           for j in d[i].keys()})\n",
    "kb_idx.index = names"
   ]
  },
  {
   "cell_type": "markdown",
   "metadata": {},
   "source": [
    "### load alevin index time and mem"
   ]
  },
  {
   "cell_type": "code",
   "execution_count": null,
   "metadata": {},
   "outputs": [],
   "source": [
    "# al files\n",
    "d = {}\n",
    "\n",
    "d[\"index\"] = {\"time\": [], \"mem\": []}\n",
    "files = sorted(glob.glob(ref_dir+'/*/salmon.log'))\n",
    "\n",
    "mem = []\n",
    "time = []\n",
    "for f in files:\n",
    "    m, t = get_memtime(f)\n",
    "    mem.append(m)\n",
    "    time.append(t)\n",
    "d[\"index\"]['time'] = time\n",
    "d[\"index\"]['mem'] = mem"
   ]
  },
  {
   "cell_type": "code",
   "execution_count": null,
   "metadata": {},
   "outputs": [],
   "source": [
    "names = [f.split(\"/\")[-2] for f in files]\n",
    "\n",
    "al_idx = pd.DataFrame.from_dict({(i,j): d[i][j] \n",
    "                           for i in d.keys() \n",
    "                           for j in d[i].keys()})\n",
    "al_idx.index = names"
   ]
  },
  {
   "cell_type": "markdown",
   "metadata": {},
   "source": [
    "### nreads"
   ]
  },
  {
   "cell_type": "code",
   "execution_count": null,
   "metadata": {},
   "outputs": [],
   "source": [
    "run_log = sorted(glob.glob(out_dir+'/kallisto_out/*/run_info.json'))"
   ]
  },
  {
   "cell_type": "code",
   "execution_count": null,
   "metadata": {},
   "outputs": [],
   "source": [
    "nreads = []\n",
    "for r in run_log:\n",
    "    with open(r, 'r') as f:\n",
    "        nreads.append(json.load(f)[\"n_processed\"])"
   ]
  },
  {
   "cell_type": "markdown",
   "metadata": {},
   "source": [
    "### load kallisto time and mem"
   ]
  },
  {
   "cell_type": "code",
   "execution_count": null,
   "metadata": {},
   "outputs": [],
   "source": [
    "ksteps = ['pseudoalignment', 'sort_output', 'whitelist', 'correct',  'sort_barcodes', 'count']\n",
    "asteps = ['pseudoalignment', 'permitlist', 'collate', 'quant']"
   ]
  },
  {
   "cell_type": "code",
   "execution_count": null,
   "metadata": {},
   "outputs": [],
   "source": [
    "# kb files\n",
    "d = {}\n",
    "for step in ksteps:\n",
    "    d[step] = {\"time\": [], \"mem\": []}\n",
    "    files = sorted(sorted(glob.glob(out_dir+'kallisto_out/*/'+step+'.log')))\n",
    "    mem = []\n",
    "    time = []\n",
    "    for f in files:\n",
    "        m, t = get_memtime(f)\n",
    "        mem.append(m)\n",
    "        time.append(t)\n",
    "    d[step]['time'] = time\n",
    "    d[step]['mem'] = mem"
   ]
  },
  {
   "cell_type": "markdown",
   "metadata": {},
   "source": [
    "**Convert bustools timing to three main steps: Whitelist - Collate - Quant**\n",
    "\n",
    "- sort_outout + whitelist -> whitelist (generate-permit-list)\n",
    "- correct + sort_barcodes -> collate\n",
    "- count -> quant"
   ]
  },
  {
   "cell_type": "code",
   "execution_count": null,
   "metadata": {},
   "outputs": [],
   "source": [
    "d_kal = {}\n",
    "d_kal['pseudoalignment'] = d['pseudoalignment']\n",
    "\n",
    "l_kal = len(d_kal['pseudoalignment']['time'])\n",
    "\n",
    "mem = []\n",
    "time = []\n",
    "for i in range(l_kal):\n",
    "    t = d['sort_output']['time'][i] + d['whitelist']['time'][i]\n",
    "    m = max(d['sort_output']['mem'][i], d['whitelist']['mem'][i])\n",
    "    time.append(t)\n",
    "    mem.append(m)\n",
    "\n",
    "d_kal['permitlist'] = {\"time\": [], \"mem\": []}\n",
    "d_kal['permitlist']['time'] = time\n",
    "d_kal['permitlist']['mem'] = mem\n",
    "\n",
    "mem = []\n",
    "time = []\n",
    "for i in range(l_kal):   \n",
    "    t = d['correct']['time'][i] + d['sort_barcodes']['time'][i]\n",
    "    m = max(d['correct']['mem'][i], d['sort_barcodes']['mem'][i])\n",
    "    time.append(t)\n",
    "    mem.append(m)\n",
    "    \n",
    "d_kal['collate'] = {\"time\": [], \"mem\": []}\n",
    "d_kal['collate']['time'] = time\n",
    "d_kal['collate']['mem'] = mem\n",
    "\n",
    "d_kal['quant'] = d['count']"
   ]
  },
  {
   "cell_type": "code",
   "execution_count": null,
   "metadata": {},
   "outputs": [],
   "source": [
    "names = [f.split(\"/\")[-2] for f in files]\n",
    "kb = pd.DataFrame.from_dict({(i,j): d_kal[i][j] \n",
    "                           for i in d_kal.keys() \n",
    "                           for j in d_kal[i].keys()})\n",
    "\n",
    "files = sorted(glob.glob(out_dir+'kallisto_out/*/sc.bus'))\n",
    "fsize = [os.path.getsize(f) for f in files]\n",
    "\n",
    "kb.index = names\n",
    "kb['nreads'] = nreads\n",
    "kb['fsize', 'mem'] = fsize"
   ]
  },
  {
   "cell_type": "code",
   "execution_count": null,
   "metadata": {},
   "outputs": [],
   "source": [
    "kb['index', 'name'] = kb.index.map(REF)\n",
    "kb['index', 'time'] = kb['index', 'name'].map(kb_idx['index', 'time'])\n",
    "kb['index', 'mem'] = kb['index', 'name'].map(kb_idx['index', 'mem'])"
   ]
  },
  {
   "cell_type": "markdown",
   "metadata": {},
   "source": [
    "### load alevin time and mem"
   ]
  },
  {
   "cell_type": "code",
   "execution_count": null,
   "metadata": {},
   "outputs": [],
   "source": [
    "# alevin files\n",
    "d = {}\n",
    "for step in asteps:\n",
    "    d[step] = {\"time\": [], \"mem\": []}\n",
    "    files = sorted(glob.glob(out_dir+'alevin_out/*/'+step+'.log'))\n",
    "\n",
    "    mem = []\n",
    "    time = []\n",
    "    for f in files:\n",
    "        m, t = get_memtime(f)\n",
    "        mem.append(m)\n",
    "        time.append(t)\n",
    "    d[step]['time'] = time\n",
    "    d[step]['mem'] = mem"
   ]
  },
  {
   "cell_type": "code",
   "execution_count": null,
   "metadata": {},
   "outputs": [],
   "source": [
    "names = [f.split(\"/\")[-2] for f in files]\n",
    "al = pd.DataFrame.from_dict({(i,j): d[i][j] \n",
    "                           for i in d.keys() \n",
    "                           for j in d[i].keys()})\n",
    "al.index = names\n",
    "\n",
    "files = sorted(glob.glob(out_dir+'alevin_out/*/permitlist/map.collated.rad'))\n",
    "fsize = [os.path.getsize(f) for f in files]\n",
    "\n",
    "al['nreads'] = nreads\n",
    "al['fsize', 'mem'] = fsize"
   ]
  },
  {
   "cell_type": "code",
   "execution_count": null,
   "metadata": {},
   "outputs": [],
   "source": [
    "al['index', 'name'] = al.index.map(REF)\n",
    "al['index', 'time'] = al['index', 'name'].map(al_idx['index', 'time'])\n",
    "al['index', 'mem']  = al['index', 'name'].map(al_idx['index', 'mem'])"
   ]
  },
  {
   "cell_type": "markdown",
   "metadata": {},
   "source": [
    "### sum time and take max of mem"
   ]
  },
  {
   "cell_type": "code",
   "execution_count": null,
   "metadata": {},
   "outputs": [],
   "source": [
    "CMDS = {\n",
    "   'index': {\n",
    "        \"kb\": \"$ kallisto index\",\n",
    "        'al': \"$ salmon index\",\n",
    "        'en': \"Purpose: Build mapping index\",\n",
    "    }, \n",
    "    'pseudoalignment': {\n",
    "        \"kb\": \"$ kallisto bus\",\n",
    "        'al': \"$ salmon alevin --rad --sketch\",\n",
    "        'en': \"Purpose: Perform mapping\",\n",
    "    },  'fsize': {\n",
    "        \"kb\": \"BUS file\",\n",
    "        'al': \"RAD file\",\n",
    "        'en': \"Purpose: Store result of mapping\",\n",
    "    },  'permitlist': {\n",
    "        \"kb\": \"$ bustools sort + bustools whitelist\",\n",
    "        'al': \"$ alevin-fry generate-permit-list\\n             --knee-distance\",\n",
    "        'en': \"Purpose: Error correct of barcodes\",\n",
    "    },  'collate': {\n",
    "        \"kb\": \"$ bustools correct + bustools sort\",\n",
    "        'al': \"$ alevin-fry collate\",\n",
    "        'en': \"Purpose: Enable streaming\",\n",
    "    },  'quant': {\n",
    "        \"kb\": \"$ bustools count\",\n",
    "        'al': \"$ alevin-fry quant\",\n",
    "        'en': \"Purpose: Generate count matrix\",\n",
    "    },  'tot': {\n",
    "        \"kb\": \"$ kallisto + bustools pipeline\",\n",
    "        'al': \"$ salmon + alevin pipeline\",\n",
    "        'en': \"Purpose: Process single cell data\",\n",
    "    }\n",
    "}\n",
    "\n",
    "plot_steps = list(CMDS.keys())\n",
    "plot_steps\n",
    "\n",
    "time_steps = plot_steps.copy()\n",
    "mem_steps  = plot_steps.copy()\n",
    "\n",
    "time_steps.remove('fsize')\n",
    "time_steps.remove('index')\n",
    "time_steps.remove('tot')\n",
    "\n",
    "mem_steps.remove('index')\n",
    "mem_steps.remove('fsize')\n",
    "mem_steps.remove('tot')"
   ]
  },
  {
   "cell_type": "code",
   "execution_count": null,
   "metadata": {},
   "outputs": [],
   "source": [
    "plot_steps"
   ]
  },
  {
   "cell_type": "code",
   "execution_count": null,
   "metadata": {},
   "outputs": [],
   "source": [
    "kb['tot', 'time'] = np.sum([kb[step]['time'] for step in time_steps], axis=0)\n",
    "kb['tot', 'mem']  = kb[[(step, 'mem') for step in mem_steps]].max(axis=1)\n",
    "\n",
    "al['tot', 'time'] = np.sum([al[step]['time'] for step in time_steps], axis=0)\n",
    "al['tot', 'mem']  = al[[(step, 'mem') for step in mem_steps]].max(axis=1)"
   ]
  },
  {
   "cell_type": "markdown",
   "metadata": {},
   "source": [
    "# Plot"
   ]
  },
  {
   "cell_type": "code",
   "execution_count": null,
   "metadata": {},
   "outputs": [],
   "source": [
    "kallisto_color = '#377eb8'\n",
    "alevin_color = \"#e41a1c\"\n",
    "alpha = 0.2"
   ]
  },
  {
   "cell_type": "code",
   "execution_count": null,
   "metadata": {},
   "outputs": [],
   "source": [
    "def plot_time(step, kb, al, ax, label_top=False, label_bottom=True):\n",
    "    measurement = \"time\"\n",
    "\n",
    "    title = f\"{step}\"\n",
    "\n",
    "    for nr in kb['nreads']:\n",
    "        ax.axvline(x=nr,linewidth=1, color='lightgrey', linestyle='--', zorder=1)\n",
    "\n",
    "    x = kb['nreads']\n",
    "    y = kb[f'{step}'][f'{measurement}']/1000/60\n",
    "    amin = min(y)\n",
    "\n",
    "    ax.scatter(x,y, color=kallisto_color, label=\"kallisto\")\n",
    "\n",
    "    x = al['nreads']\n",
    "    y = al[f'{step}'][f'{measurement}']/1000/60\n",
    "    kmin = min(y)\n",
    "\n",
    "    ax.scatter(x,y, color=alevin_color, zorder=-1, label= \"alevin\")\n",
    "\n",
    "    if label_top:\n",
    "        ax.set_title(f'{measurement}', fontweight='bold', loc = 'center' )\n",
    "        ## add labels on top\n",
    "        ax2 = ax.twiny()\n",
    "        ax2.set(**{\n",
    "            \"xticks\": np.linspace(kb['nreads'].min(), kb['nreads'].max(), kb.shape[0]),\n",
    "            \"xticklabels\": kb.sort_values('nreads').index.values,\n",
    "        })\n",
    "\n",
    "        for label in ax2.get_xticklabels():\n",
    "            label.set_rotation(-45)\n",
    "            label.set_horizontalalignment(\"right\")\n",
    "\n",
    "        ax2.tick_params(\n",
    "            axis='x',          # changes apply to the x-axis\n",
    "            which='minor',      # both major and minor ticks are affected\n",
    "            bottom=False,      # ticks along the bottom edge are off\n",
    "            top=False,         # ticks along the top edge are off\n",
    "            labelbottom=False) # labels along the bottom edge are off\n",
    "\n",
    "    kwd = {\n",
    "        'xscale': \"log\",\n",
    "        \"ylabel\": f\"Time [min]\",\n",
    "        'xlabel': \"\",\n",
    "        'xticklabels': [],\n",
    "    } \n",
    "    if label_bottom:\n",
    "        kwd.update({\n",
    "            'xlabel': \"Number of reads\",\n",
    "        })\n",
    "        kwd.pop('xticklabels')\n",
    "\n",
    "    ax.set(**kwd)\n",
    "\n",
    "    ax.grid(color='dimgrey', linestyle='-', linewidth=0.5, which=\"both\", alpha = alpha)\n",
    "\n",
    "    ax.legend(markerscale=2)\n",
    "    return ax"
   ]
  },
  {
   "cell_type": "code",
   "execution_count": null,
   "metadata": {},
   "outputs": [],
   "source": [
    "def plot_mem(step, kb, al, ax, label_top=False, label_bottom=True):\n",
    "    measurement = \"mem\"\n",
    "\n",
    "    title = f\"{step}\"\n",
    "\n",
    "    for nr in kb['nreads']:\n",
    "        ax.axvline(x=nr,linewidth=1, color='lightgrey', linestyle='--', zorder=1)\n",
    "\n",
    "    x = kb['nreads']\n",
    "    y = kb[f'{step}'][f'{measurement}']/10**9\n",
    "    ax.scatter(x,y, color=kallisto_color, label=\"kallisto\")\n",
    "\n",
    "    x = al['nreads']\n",
    "    y = al[f'{step}'][f'{measurement}']/10**9\n",
    "    ax.scatter(x,y, color=alevin_color, zorder=-1, label= \"alevin\")\n",
    "\n",
    "\n",
    "    if label_top:\n",
    "        ax.set_title(f'{measurement}'+'ory', fontweight='bold', loc = 'center' )\n",
    "        ## add labels on top\n",
    "        ax2 = ax.twiny()\n",
    "        ax2.set(**{\n",
    "            \"xticks\": np.linspace(kb['nreads'].min(), kb['nreads'].max(), kb.shape[0]),\n",
    "            \"xticklabels\": kb.sort_values('nreads').index.values,\n",
    "        })\n",
    "\n",
    "        for label in ax2.get_xticklabels():\n",
    "            label.set_rotation(-45)\n",
    "            label.set_horizontalalignment(\"right\")\n",
    "\n",
    "        ax2.tick_params(\n",
    "            axis='x',          # changes apply to the x-axis\n",
    "            which='minor',      # both major and minor ticks are affected\n",
    "            bottom=False,      # ticks along the bottom edge are off\n",
    "            top=False,         # ticks along the top edge are off\n",
    "            labelbottom=False) # labels along the bottom edge are off\n",
    "    ylabel = \"Memory [GB]\"\n",
    "    if step=='fsize': ylabel=\"Size [GB]\"\n",
    "    kwd = {\n",
    "        'xscale': \"log\",\n",
    "        \"ylabel\": ylabel,\n",
    "        \"xlabel\": \"\",\n",
    "        'xticklabels': [],\n",
    "        'ylim': min(ax.get_ylim()[0], 0)\n",
    "    }\n",
    "    if label_bottom:\n",
    "        kwd.update({\n",
    "            'xlabel': \"Number of reads\",\n",
    "        })\n",
    "        kwd.pop(\"xticklabels\")\n",
    "        \n",
    "    ax.set(**kwd)\n",
    "\n",
    "    ax.grid(color='dimgrey', linestyle='-', linewidth=0.5, which=\"both\", alpha = alpha)\n",
    "\n",
    "    ax.legend(markerscale=2)\n",
    "    return ax"
   ]
  },
  {
   "cell_type": "code",
   "execution_count": null,
   "metadata": {},
   "outputs": [],
   "source": [
    "left, width = .25, .5\n",
    "bottom, height = .25, .5\n",
    "right = left + width\n",
    "top = bottom + height"
   ]
  },
  {
   "cell_type": "code",
   "execution_count": null,
   "metadata": {},
   "outputs": [],
   "source": [
    "colors = [kallisto_color, alevin_color, \"black\"]"
   ]
  },
  {
   "cell_type": "code",
   "execution_count": null,
   "metadata": {},
   "outputs": [],
   "source": [
    "n = len(plot_steps)\n",
    "fig = plt.figure(figsize=(15*2, n*3.5))\n",
    "\n",
    "gs = fig.add_gridspec(n, 3, hspace=0.0)\n",
    "\n",
    "axs = [\n",
    "    (fig.add_subplot(gs[i, 0]), fig.add_subplot(gs[i, 1]), fig.add_subplot(gs[i, 2])) for i in range(len(plot_steps))\n",
    "]\n",
    "\n",
    "for idx, ((cmd_ax, time_ax, mem_ax), step) in enumerate(zip(axs, plot_steps)):\n",
    "    label_top=False\n",
    "    label_bottom=False\n",
    "    if idx == 0: label_top=True; cmd_ax.set_title('command', fontweight='bold', loc = 'center' );\n",
    "    if idx == n-1: label_bottom=True;\n",
    "    \n",
    "    # add commands to first column    \n",
    "    cmds = list(CMDS[step].values())\n",
    "    ncmds = len(cmds)\n",
    "    for cidx, (c, color) in enumerate(zip(cmds, colors), -1):\n",
    "        fontfamily = \"monospace\"\n",
    "        if cidx==1: fontfamily = \"sans\"; \n",
    "        kwd = {\n",
    "                \"horizontalalignment\": \"left\",\n",
    "                \"verticalalignment\": \"center\",\n",
    "                \"fontfamily\": fontfamily,\n",
    "                \"fontweight\":  \"bold\",\n",
    "                \"fontsize\": 20,\n",
    "                \"color\": color,\n",
    "                \"transform\": cmd_ax.transAxes\n",
    "        }\n",
    "        x = 0.225\n",
    "        y = 0.5*(bottom+top)-cidx/(len(cmds)+2)\n",
    "        cmd_ax.text(x,y,c, **kwd)\n",
    "    cmd_ax.set_axis_off()\n",
    "    \n",
    "    if step == 'fsize':\n",
    "        plot_mem(step, kb, al, mem_ax, label_top=label_top, label_bottom=label_bottom)\n",
    "        time_ax.set_axis_off()\n",
    "    else:\n",
    "        plot_time(step, kb, al, time_ax, label_top=label_top, label_bottom=label_bottom)\n",
    "        plot_mem(step, kb, al, mem_ax, label_top=label_top, label_bottom=label_bottom)\n",
    "\n",
    "fig.savefig(out_dir+'/memtime.pdf', dpi=100, bbox_inches='tight')\n",
    "fig.show()"
   ]
  },
  {
   "cell_type": "code",
   "execution_count": null,
   "metadata": {},
   "outputs": [],
   "source": [
    "kb['pseudoalignment']['mem']/10**9"
   ]
  },
  {
   "cell_type": "markdown",
   "metadata": {},
   "source": [
    "# Sum time and max mem"
   ]
  },
  {
   "cell_type": "code",
   "execution_count": null,
   "metadata": {},
   "outputs": [],
   "source": [
    "fig, ax = plt.subplots(figsize=(14*2, 7), ncols=2)\n",
    "\n",
    "# sum\n",
    "plot_time('tot', kb, al, ax[0], label_top=True, label_bottom=True)\n",
    "ax[0].set_title('Sum time', fontweight='bold')\n",
    "plot_mem('tot', kb, al, ax[1], label_top=True, label_bottom=True)\n",
    "ax[1].set_title('Max memory', fontweight='bold')\n",
    "\n",
    "fig.savefig('sum_max_memtime.png', dpi=300, bbox_inches='tight')\n",
    "\n",
    "fig.show()"
   ]
  },
  {
   "cell_type": "code",
   "execution_count": null,
   "metadata": {},
   "outputs": [],
   "source": [
    "print('kallisto')\n",
    "kb_time = kb.loc['human-pbmc10k_v3']['tot']['time']/1000/60\n",
    "kb_index_time = kb.loc['human-pbmc10k_v3']['index']['time']/1000/60\n",
    "kb_mem = kb.loc['human-pbmc10k_v3']['tot']['mem']/10**9\n",
    "print(f\"{kb_time} min\")\n",
    "print(f\"{kb_index_time} min\")\n",
    "print(f\"{kb_mem} GB\")"
   ]
  },
  {
   "cell_type": "code",
   "execution_count": null,
   "metadata": {},
   "outputs": [],
   "source": [
    "print('alevin')\n",
    "al_time = al.loc['human-pbmc10k_v3']['tot']['time']/1000/60\n",
    "al_index_time = al.loc['human-pbmc10k_v3']['index']['time']/1000/60\n",
    "al_mem = al.loc['human-pbmc10k_v3']['tot']['mem']/10**9\n",
    "\n",
    "print(f\"{al_time} min\")\n",
    "print(f\"{al_index_time} min\")\n",
    "print(f\"{al_mem} GB\")"
   ]
  },
  {
   "cell_type": "markdown",
   "metadata": {},
   "source": [
    "https://aws.amazon.com/ec2/pricing/on-demand/"
   ]
  },
  {
   "cell_type": "code",
   "execution_count": null,
   "metadata": {},
   "outputs": [],
   "source": [
    "cost_4  = 0.077\n",
    "cost_8  = 0.154\n",
    "cost_16 = 0.308\n",
    "cost_32 = 0.616"
   ]
  },
  {
   "cell_type": "code",
   "execution_count": null,
   "metadata": {},
   "outputs": [],
   "source": [
    "kb_cost = kb_time /60 * cost_8\n",
    "al_cost = al_time /60 * cost_8"
   ]
  },
  {
   "cell_type": "code",
   "execution_count": null,
   "metadata": {},
   "outputs": [],
   "source": [
    "kb_cost_index = (kb_time+kb_index_time) /60 * cost_16\n",
    "al_cost_index = (al_time+al_index_time) /60 * cost_8"
   ]
  },
  {
   "cell_type": "code",
   "execution_count": null,
   "metadata": {},
   "outputs": [],
   "source": [
    "kbc = float(f'{kb_cost:,.2f}')\n",
    "alc = float(f'{al_cost:,.2f}')\n",
    "\n",
    "print(f'kallisto costs ${kbc}')\n",
    "print(f'  alevin costs ${alc}')\n",
    "print(f'kallisto is {kbc/alc:,.0f} times more expensive tha alevin')"
   ]
  },
  {
   "cell_type": "code",
   "execution_count": null,
   "metadata": {},
   "outputs": [],
   "source": [
    "kbc = float(f'{kb_cost_index:,.2f}')\n",
    "alc = float(f'{al_cost_index:,.2f}')\n",
    "\n",
    "print(f'kallisto costs ${kbc}')\n",
    "print(f'  alevin costs ${alc}')\n",
    "print(f'kallisto is {kbc/alc:,.0f} times more expensive tha alevin when building the index is considered')"
   ]
  },
  {
   "cell_type": "code",
   "execution_count": null,
   "metadata": {},
   "outputs": [],
   "source": []
  },
  {
   "cell_type": "code",
   "execution_count": null,
   "metadata": {},
   "outputs": [],
   "source": [
    "# not in human mouse\n",
    "max(al[~al.index.str.contains('hgmm')]['tot']['mem'])/10**9"
   ]
  },
  {
   "cell_type": "code",
   "execution_count": null,
   "metadata": {},
   "outputs": [],
   "source": [
    "# human mouse\n",
    "al.loc['human_mouse-hgmm10k_v3']['tot']['mem']/10**9"
   ]
  },
  {
   "cell_type": "code",
   "execution_count": null,
   "metadata": {},
   "outputs": [],
   "source": [
    "kb.loc['human_mouse-hgmm10k_v3']['tot']['mem']/10**9"
   ]
  },
  {
   "cell_type": "code",
   "execution_count": null,
   "metadata": {},
   "outputs": [],
   "source": [
    "kb_mean_time = kb['tot']['time'].mean()/1000/60\n",
    "al_mean_time = al['tot']['time'].mean()/1000/60"
   ]
  },
  {
   "cell_type": "code",
   "execution_count": null,
   "metadata": {},
   "outputs": [],
   "source": [
    "print(f\"average kb time: {kb_mean_time:,.2f} min\")\n",
    "print(f\"average al time: {al_mean_time:,.2f} min\")\n",
    "print(f\"kallisto is {kb_mean_time/al_mean_time:,.0f} times slower than alevin\")"
   ]
  },
  {
   "cell_type": "code",
   "execution_count": null,
   "metadata": {},
   "outputs": [],
   "source": []
  },
  {
   "cell_type": "code",
   "execution_count": null,
   "metadata": {},
   "outputs": [],
   "source": []
  }
 ],
 "metadata": {
  "kernelspec": {
   "display_name": "Python 3",
   "language": "python",
   "name": "python3"
  },
  "language_info": {
   "codemirror_mode": {
    "name": "ipython",
    "version": 3
   },
   "file_extension": ".py",
   "mimetype": "text/x-python",
   "name": "python",
   "nbconvert_exporter": "python",
   "pygments_lexer": "ipython3",
   "version": "3.8.3"
  }
 },
 "nbformat": 4,
 "nbformat_minor": 4
}
